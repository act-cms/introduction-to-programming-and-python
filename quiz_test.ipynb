{
 "cells": [
  {
   "cell_type": "code",
   "execution_count": 18,
   "id": "6bac0c1e-1405-4e79-ac25-2e2bfcefc575",
   "metadata": {},
   "outputs": [
    {
     "name": "stdout",
     "output_type": "stream",
     "text": [
      "Python file with questions already exists ... carry on\n",
      "Jupyterquiz is available and ready for use ... carry on\n"
     ]
    }
   ],
   "source": [
    "import os\n",
    "\n",
    "quiz_fname = 'introduction_to_programming_and_python_questions.py'\n",
    "\n",
    "if ( os.path.exists(quiz_fname) == False ) :\n",
    "    print(\"Python file with questions does not exist ... will now attempt to download\")\n",
    "    !wget https://raw.githubusercontent.com/act-cms/introduction-to-programming-and-python/refs/heads/main/quizzes/introduction_to_programming_and_python_questions.py\n",
    "else:\n",
    "    print(\"Python file with questions already exists ... carry on\")\n",
    "\n",
    "try:\n",
    "    import jupyterquiz\n",
    "    print(\"Jupyterquiz is available and ready for use ... carry on\")\n",
    "except ImportError:\n",
    "    print(\"Jupyterquiz is not installed or not accessible in this environment ... will now attempt to install\")\n",
    "    %pip install jupyterquiz\n",
    "\n",
    "from jupyterquiz import display_quiz\n",
    "from introduction_to_programming_and_python_questions import *"
   ]
  },
  {
   "cell_type": "code",
   "execution_count": 19,
   "id": "3526b96e-fce7-4368-b9bf-d50037abd520",
   "metadata": {},
   "outputs": [
    {
     "ename": "NameError",
     "evalue": "name 'intro_variable_entry' is not defined",
     "output_type": "error",
     "traceback": [
      "\u001b[0;31m---------------------------------------------------------------------------\u001b[0m",
      "\u001b[0;31mNameError\u001b[0m                                 Traceback (most recent call last)",
      "Cell \u001b[0;32mIn[19], line 1\u001b[0m\n\u001b[0;32m----> 1\u001b[0m Q \u001b[38;5;241m=\u001b[39m \u001b[43mintro_variable_entry\u001b[49m\n\u001b[1;32m      2\u001b[0m display_quiz(Q)\n",
      "\u001b[0;31mNameError\u001b[0m: name 'intro_variable_entry' is not defined"
     ]
    }
   ],
   "source": [
    "Q = intro_variable_entry\n",
    "display_quiz(Q)"
   ]
  },
  {
   "cell_type": "code",
   "execution_count": null,
   "id": "9800bca6-41e5-45cd-b56e-65af4318ff3b",
   "metadata": {},
   "outputs": [],
   "source": []
  },
  {
   "cell_type": "code",
   "execution_count": null,
   "id": "462c7412-3fb4-4bbd-9093-c1718efedf6d",
   "metadata": {},
   "outputs": [],
   "source": []
  }
 ],
 "metadata": {
  "kernelspec": {
   "display_name": "Python 3 (ipykernel)",
   "language": "python",
   "name": "python3"
  },
  "language_info": {
   "codemirror_mode": {
    "name": "ipython",
    "version": 3
   },
   "file_extension": ".py",
   "mimetype": "text/x-python",
   "name": "python",
   "nbconvert_exporter": "python",
   "pygments_lexer": "ipython3",
   "version": "3.10.14"
  }
 },
 "nbformat": 4,
 "nbformat_minor": 5
}
