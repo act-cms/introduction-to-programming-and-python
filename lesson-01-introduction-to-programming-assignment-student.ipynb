{
 "cells": [
  {
   "cell_type": "markdown",
   "id": "c619105d-0f74-48be-b49e-decb7565f902",
   "metadata": {},
   "source": [
    "# INTRODUCTION TO PROGRAMMING AND PYTHON - ASSIGNMENT <br> (STUDENT HANDOUT)"
   ]
  },
  {
   "cell_type": "markdown",
   "id": "b05da6c5-6d95-4bdf-b242-6b18cdacde3c",
   "metadata": {
    "jp-MarkdownHeadingCollapsed": true
   },
   "source": [
    "# Import libraries"
   ]
  },
  {
   "cell_type": "markdown",
   "id": "aafeb5f5-f005-4443-8ce7-8feec038e2b8",
   "metadata": {},
   "source": [
    "You only need to import libraries once and you are ready to use them anywhere in the Jupyter notebook. To improve the readability of your solutions to the exercises below, import all libraries in the cell below."
   ]
  },
  {
   "cell_type": "code",
   "execution_count": null,
   "id": "13aa17b6-dae1-45c8-978d-b7b36ef04513",
   "metadata": {},
   "outputs": [],
   "source": []
  },
  {
   "cell_type": "markdown",
   "id": "a1c87b51-b908-4105-bac6-4aacac715c35",
   "metadata": {},
   "source": [
    "# <span style=\"color:blue\"> Complete the problems below </span>"
   ]
  },
  {
   "cell_type": "markdown",
   "id": "0be15314-b868-4099-9c35-325beaa05000",
   "metadata": {
    "jp-MarkdownHeadingCollapsed": true
   },
   "source": [
    "## **1.** ```for``` loops"
   ]
  },
  {
   "cell_type": "markdown",
   "id": "869d9f7d-9b8f-4c32-a1b7-bfd78c0386c4",
   "metadata": {},
   "source": [
    "```For``` loops are programming constructs that repeatedly execute a block of code until some termination criterion is met. In scientific applications, they are most commonly used to perform iterations and/or access elements of vectors and/or matrices. <br>\n",
    "\n",
    "The basic syntax for a ```for``` loop follows the following structure <br>\n",
    "\n",
    "```python\n",
    "for iteration_variable in range( min_iteration_varibale_value , max_iteration_variable_value ):\n",
    "    indented block of code that is executed\n",
    "\n",
    "this un-indented (relative to the line where the for loop was started) code does not get repeated\n",
    "```\n",
    "\n",
    "A few notes on for loops in Python\n",
    "\n",
    "- The name of the iteration variable can be anything, but it must be be an integer!\n",
    "- If ```min_iteration_variable_value``` is omitted, it is assumed to be 0.\n",
    "- In Python, the above syntax implies that ```min_iteration_variable_value``` $\\leq$ ```iteration_variable``` $\\lt$ ```max_iteration_variable_value```\n",
    "- in principle, the indentation can be any number of spaces, however, the default is equivalent to the ```Tab``` key.\n",
    "\n",
    "and thus, the code inside the for loop is executed (```max_iteration_variable_value``` - ```min_iteration_variable_value```) times. <br>"
   ]
  },
  {
   "cell_type": "markdown",
   "id": "9aa9cde2-4e5b-4d61-a61a-c3602cbb6aa3",
   "metadata": {},
   "source": [
    "<span style=\"color:blue\">\n",
    "\n",
    "The value of $N$ facrtorial, $N!$, is given by\n",
    "\\begin{equation}\n",
    "N\\! = 1 \\times 2 \\times ... \\times (N-1) \\times N = \\prod_{i=1}^{N} i\n",
    "\\end{equation}\n",
    "\n",
    "In the cell below, you will write code that\n",
    "\n",
    "- assigns the value of 4 to the variable ```N```\n",
    "- uses a ```for``` loop to calculate the value of $N!$ (denote the variable ```N_factorial```)\n",
    "- prints the value of $N!$ using formatted printing.\n",
    "\n",
    "Test your code to make sure it gives the correct result. To see how you should implement the for loop, you can think of $N!$ recursively. For example, $4!$ can be written as\n",
    "\n",
    "\\begin{equation}\n",
    "4! = ( \\hspace{1mm} ( \\hspace{1mm} ( \\hspace{1mm} {\\color{red}( \\hspace{1mm} 1 \\times 1 \\hspace{1mm} ) } \\hspace{1mm} \\times 2 \\hspace{1mm} ) \\times 3 \\hspace{1mm} ) \\times 4  \\hspace{1mm} ) = ( \\hspace{1mm} ( \\hspace{1mm} {\\color{red} ( \\hspace{1mm} 1 \\hspace{1mm} \\times 2 \\hspace{1mm} ) } \\times 3 \\hspace{1mm} ) \\times 4  \\hspace{1mm} )  = ( \\hspace{1mm} {\\color{red}( \\hspace{1mm} 2 \\times 3 \\hspace{1mm} ) } \\times 4  \\hspace{1mm} ) =  { \\color{red} ( \\hspace{1mm} 6 \\times 4  \\hspace{1mm} )} = 24\n",
    "\\end{equation}\n",
    "\n",
    "where, at each step, the multiplication in the innermost parenthesis (indicated in red) is performed first and the resulting value is used in the next step. Note that you will need to initialize the value of the factorial. In the case of a sum (see live coding example), the initial value of the sum was 0. Would that work for $N$ factorial? If not, what initial value would be appropriate? \n",
    "\n",
    "</span>"
   ]
  },
  {
   "cell_type": "code",
   "execution_count": null,
   "id": "fbda5539-f7ea-47a4-9863-de0c878f8ba9",
   "metadata": {},
   "outputs": [],
   "source": []
  },
  {
   "cell_type": "markdown",
   "id": "b0a6ce46-9601-46de-92ba-b591917a1674",
   "metadata": {},
   "source": [
    "It is possible to place loops inside loops; such loop constructs are referred to as *nested loops*. The example below deomnstrates the general syntax for two nested loops.\n",
    "\n",
    "```python\n",
    "\n",
    "for outer_iteration_variable in range( min_outer_iteration_variable_value , max_outer_iteration_variable_value):\n",
    "\n",
    "    1a. indented block of code that is executed repeatedly (before the inner for loop is executed)\n",
    "    \n",
    "    for inner_iteration_variable in range( min_inner_iteration_variable_value , max_inner_iteration_variable_value):\n",
    "\n",
    "        2.a double-indented block of code that is executed repeatedly\n",
    "\n",
    "    1.b indented block of code that is executed repeatedly (after the inner for loop is executed)\n",
    "\n",
    "un-indented block of code that is not executed repeatedly\n",
    "```\n",
    "\n",
    "A couple of notes related to nested loops\n",
    "\n",
    "- The block of code (2.a) in the inner loop is edxecuted for every value of inner_iteration_variable and outer_iteration_variable. \n",
    "- The blocks of code (1.a and 2.a) in the outer loops are exectued for every value of outer_iteration_variable. \n",
    "- In principle, it is possible to nest as many loops as one needs to achieve a given task.\n"
   ]
  },
  {
   "cell_type": "markdown",
   "id": "ccf57b85-b23a-478f-baba-40ef7b201bb4",
   "metadata": {},
   "source": [
    "<span style=\"color:blue\">\n",
    "\n",
    "In this exercise, you will evaluate the sum \n",
    "\\begin{equation}\n",
    "S_N = \\sum_{i=-1}^{N} \\sum_{j=i}^{2N} i^j\n",
    "\\end{equation}\n",
    "\n",
    "That is, add up all numbers $i^j$ such that $-1 \\leq i \\leq N$ and $i \\leq j \\leq 2N$ for some $N$. For example, for $N=1$, the sum is given by\n",
    "\\begin{equation}\n",
    "S_1 = (-1)^{\\color{red}-1} + (-1)^{\\color{red}0} + (-1)^{\\color{red}1} + (-1)^{\\color{red}2} + (0)^{\\color{red}0} + (0)^{\\color{red}1} + (0)^{\\color{red}2} + (1)^{\\color{red}1} + (1)^{\\color{red}2} = 3\n",
    "\\end{equation}\n",
    "where the $\\rm \\color{red} exponents$ correspond to values of $j$ included in the sum and values of $i$ are inside the parenthesis in blue. To help you in checking your code further, $S_3 = 1211$. Note that because the lower limit for the sum over $j$ depends on the value of $i$, the inner loop should be the loop over $j$.\n",
    "\n",
    "To accomplish this, in the cell below, you will write code that\n",
    "\n",
    "- assigns the value 3 to the variable ```N```\n",
    "- assigns the value of -1 to the variable ```i_min```\n",
    "- uses nested ```for``` loops to calculate the sum (denoted by ```sum```)\n",
    "- prints the value of ```sum``` using formatted printing\n",
    "  \n",
    "</span>"
   ]
  },
  {
   "cell_type": "code",
   "execution_count": null,
   "id": "c505a43d-301e-40a1-9c08-2e4531f62406",
   "metadata": {},
   "outputs": [],
   "source": []
  },
  {
   "cell_type": "markdown",
   "id": "567459a9-d822-453f-90b8-1751281d43cb",
   "metadata": {
    "jp-MarkdownHeadingCollapsed": true
   },
   "source": [
    "## **2.** User-defined functions"
   ]
  },
  {
   "cell_type": "markdown",
   "id": "dc0c8c85-d35e-4f28-a719-5ee13a12267f",
   "metadata": {},
   "source": [
    "Functions, in the context of programming behave in a manner similar to mathematical functions. Given some list of input variables, a function executes a block of code (presumably using the input variables) and returns a list of outputs. The general Python syntax is\n",
    "\n",
    "```Python\n",
    "def my_function_name(input_1,input_2,...,input_N_in):\n",
    "\n",
    "    '''\n",
    "    Text describing the function and its use (DocStrings)\n",
    "    '''\n",
    "\n",
    "    indented block of code that is executed by the function\n",
    "\n",
    "    return output_1,output_2,...,output_N_out\n",
    "```\n",
    "\n",
    "Using functions in code is advantageous because\n",
    "\n",
    "- it allows reusing code\n",
    "- it increases the readability/interpretability of code\n",
    "- it increases the efficiency of debugging\n",
    "\n",
    "A few notes on functions\n",
    "\n",
    "- function names should be descriptive so that they give the user an idea of what operations that function may perform\n",
    "- it is good practice to include a description (using DocStrings) of the function that provides more information than can be gathered from the name of the function\n",
    "- variables that are declared *inside* the function are only \"known\" *inside* the function Formally, one says that a variable created inside the function belongs to the local scope of the function and can only be used inside the function.\n",
    "- the input/output variable names used in the function definition **DO NOT** have to be the same as the variable names used outside the function.\n",
    "- input arguments of Python functions are passed by value, and thus, changing their value inside the function does not change their values outside the function. To change the values of input variables, one must also declare them as outputs.\n",
    "- input arguments of Python functions can be other Python functions.\n",
    "- although variables declared outside a function are global variables (i.e. they are accessible anywhere in the code once they are declared), it is good practice to <span style=\"color:red\"> **pass all variables used by a function as input variables. We will use this convention throughout ALL exercises!** </span>"
   ]
  },
  {
   "cell_type": "markdown",
   "id": "f0e1c16a-f52c-48c9-bc40-98a82302fa1f",
   "metadata": {},
   "source": [
    "<span style=\"color:blue\">\n",
    "\n",
    "In the cell below, write code\n",
    "\n",
    "- for a function named ```piab_psi_n``` that evaluates and returns the value of the function\n",
    "$$\\psi_n(x) = \\sqrt{\\frac{2}{L}} {\\rm sin} \\left( \\frac{n\\pi x}{L}\\right)$$\n",
    "at some point $x$ given the inputs ```x```, ```n```, and ```L```. **NOTE** Keep the variable ```x``` as the first input argument for ```piab_psi_n``` (the specific order of the remaining variables does not matter).\n",
    "\n",
    "- that assigns the following values to the variables\n",
    "    - ```x1``` = 0.2, ```L1``` = 1.0, ```n1```= 1\n",
    "    - ```x2``` = 1.0, ```L2``` = 2.0, ```n2```= 2 \n",
    "\n",
    "\n",
    "- that uses ```piab_psi_n``` and the variables defined above to calculate and print the value (decimal notation with 4 decimal places) of\n",
    "    - $\\psi_1(0.2)$ with $L=1.0$\n",
    "    - $\\psi_2(1.0)$ with $L=2.0$\n",
    "      \n",
    "&ensp;&emsp; Make sure to include the values of $x$, $n$ and $L$ in your print statements!\n",
    "\n",
    "</span>"
   ]
  },
  {
   "cell_type": "code",
   "execution_count": null,
   "id": "45e65102-2a3c-4fb3-b6ce-128279cfb427",
   "metadata": {},
   "outputs": [],
   "source": []
  },
  {
   "cell_type": "markdown",
   "id": "5e35c5d1-e9f5-4834-bf0d-9cb1f2ef8173",
   "metadata": {
    "jp-MarkdownHeadingCollapsed": true
   },
   "source": [
    "## **3.** 1-D Numpy arrays (vectors)"
   ]
  },
  {
   "cell_type": "markdown",
   "id": "27dc8778-4ee2-43f9-8f3f-f1a473094e66",
   "metadata": {},
   "source": [
    "A vector in the context of programming is a one-dimensional data structure that is used to store a sequence of elements. In Python, there are two types of vectors, lists and Numpy arrays. Here, we will focus on properties of the latter; when I use the term array, I really mean Numpy array.\n",
    "\n",
    " - The individual elements of an array  can be any of the data types supported by Python (e.g. float, int, string, or boolean) but all elements in an array must be of the same data type.\n",
    "\n",
    "- Assuming that the Numpy library is imported as ```np```, a vector ${\\bf v} = \\left( -1, 5, 6 \\right)$, can be manually defined using the syntax\n",
    "\n",
    "```python\n",
    "    v = np.array( [ -1 , 5 , 6 ] )\n",
    "``` \n",
    "    \n",
    " - The length of the array (i.e. the number of entries) can be obtained from the ```len``` built-in Python function\n",
    "\n",
    "```python\n",
    "    array_length = len( v ) # number of entries in the array\n",
    "```\n",
    "\n",
    " -   The i$^{\\rm th}$ element of the array can be accessed using ```a[i]```. **NOTE** We generally think of -1 as being the first element of the array ```v``` defined above. However, because Python uses *zero indexing*, -1 actually corresponds to the 0$^{\\rm th}$ element. This zero indexing can cause some headaches initially, so pay attention and be patient.\n",
    "   \n",
    " - A subset of elements of an array (ilso called a *slice*) can be accessed using the syntax\n",
    "```python\n",
    "    array[i_min:i_max] # elements i_min through i_min - 1 of the array\n",
    "```\n",
    "\n",
    "- Element-wise (i.e. an operation is performed on each individual element of an array) operations with arrays can be accomplished using the operators ```+```, ```-```, ```*```, ```/```,```np.sqrt()```, and ```**```. Note that if these operations are performed with 2 vectors, the length of both vectors must be the same.\n",
    "\n",
    "As we will see later, it is often the case that we do not know the values stored in an array but we know the number of array elements. In these cases, we can allocate memory for an array of length $N$ using the syntax \n",
    "\n",
    "```python \n",
    "uninitialized_array = np.empty( N , dtype = data_type ) # declare an array of length N with random initial values\n",
    "``` \n",
    "\n",
    "where ```data_type``` can be any of the Python variable type (int, float, string, boolean, etc. ). Omitting the ```dtype``` argument defaults to an array of floats. Note that the initial values for the array elements are random numbers; if we want to set the initial value of all elements to 0 we can use\n",
    "```python\n",
    "zero_array = np.zeros( N , dtype = data_type ) # declare an array of length N with 0 as the initial values\n",
    "```\n",
    "Alternatively, we can define an array of all 1s as\n",
    "```python\n",
    "one_array = np.ones( N , dtype = data_type ) # declare an array of length N with 1 as the initial values\n",
    "```\n",
    "\n",
    "Once the array is initialized, we can access and manipulate its elements using the explicit indexing introduced above (not very useful in the general case) or using ```for``` loops."
   ]
  },
  {
   "cell_type": "markdown",
   "id": "fc57449c-92de-47a6-8651-278df1b29422",
   "metadata": {},
   "source": [
    "<span style=\"color:blue\">\n",
    "\n",
    "In the cell below, write code \n",
    "\n",
    "- for a function (call it ```my_ddot```) that calculates the dot product of two vectors ($\\bf A$ and $\\bf B$ both of length $N$) given by\n",
    "\\begin{equation}\n",
    "{\\rm dot\\_product} = \\sum_{i=0}^{N-1} A[i] * B[i]\n",
    "\\end{equation}\n",
    "The only inputs to the function ```my_ddot``` should be the vectors ```A``` and ```B``` and you should use the built-in ```len``` function to determine the length of the arrays inside the function. The function should print an informative error message if the array lengths are not the same; otherwise, it should return the value ```dot_product```.\n",
    "\n",
    "- that sets the value of the variable ```N``` to 4.\n",
    "- that initializes two float vectors (denoted ```v1``` and ```v2```) of length ```N``` and then sets the vector elements according to\n",
    "    - $v1[i] = i^3 \\hspace{1.5cm}$ for $0 \\leq i \\lt N$\n",
    "    - $v2[i]=-i+3\\hspace{0.6cm}$ for $0 \\leq i \\lt N$  \n",
    "<br>\n",
    "\n",
    "- that uses ```my_ddot``` to calculate and print the value of the dot product between the two vectors ```v1``` and ```v2```.\n",
    "\n",
    "- that compares your value for the dot product with the one from using Numpy's ```dot``` function.\n",
    "</span>"
   ]
  },
  {
   "cell_type": "code",
   "execution_count": null,
   "id": "43229115-b0bf-46ae-aaea-7dacf9f89c97",
   "metadata": {},
   "outputs": [],
   "source": []
  },
  {
   "cell_type": "markdown",
   "id": "9665e1ad-6538-4347-bbc2-a92983739423",
   "metadata": {},
   "source": [
    "## **4.** 2-D Numpy arrays (matrices)"
   ]
  },
  {
   "cell_type": "markdown",
   "id": "1e3aacff-8728-4810-8596-945e337297ff",
   "metadata": {},
   "source": [
    "Matrices can be thought of as 2-dimensional arrays where entries in the matrix (called matrix elements) are indexed by two indeces, a row index and a column index. For example, a matrix with $N$ rows and $M$ columns (called an $N$-by-$M$ or $N\\times M$ matrix) is \n",
    "\\begin{equation}\n",
    "{\\bf A} = \n",
    "\\begin{pmatrix}\n",
    "A_{0,0} & A_{0,1} & \\dots  & A_{0,M-1} \\\\\n",
    "A_{1,0} & A_{1,1} & \\dots  & A_{1,M-1} \\\\\n",
    "\\vdots & \\vdots   & \\ddots & \\vdots  \\\\\n",
    "A_{N-1,0} & A_{N-1,1} & \\dots  & A_{N-1,M-1}\n",
    "\\end{pmatrix}\n",
    "\\end{equation}\n",
    "\n",
    "The above notation uses the zero indexing scheme of Python where both the row index and column indeces start at 0. The syntax for initializing and manipulating matrices require relatively simple extensions of the syntax used for vectors; instead of using one index, we use 2 indeces and we have to keep in mind that the first index correponds to the row index and the column index is the second index.\n",
    "\n",
    "- The syntax for declaring a matrix with known elements, like\n",
    "\n",
    "$$\n",
    "{\\bf A} = \n",
    "\\begin{pmatrix}\n",
    "1 & 2 & 3 \\\\\n",
    "4 & 5 & 6\n",
    "\\end{pmatrix}\n",
    "$$\n",
    "\n",
    "    is\n",
    "\n",
    "```python\n",
    "        A = np.array ( [ [ 1 , 2, 3 ] , [ 4, 5, 6 ] ] )\n",
    "```\n",
    "\n",
    "- The value of the matrix element in the i$^{\\rm th}$ row and j$^{\\rm th}$ column of an $N\\times M$ matrix ```A``` can be accessed using ```A[ i , j ]```\n",
    "\n",
    " - A subset of elements of an matrix can be accessed using the syntax\n",
    "   \n",
    "```python\n",
    "    A[ : , j ] # j-th column of the matrix (this will be a vector of length N )\n",
    "    A[ i , : ] # i-th row of the matrix ( this will be a vector of length M)\n",
    "```\n",
    "\n",
    "&emsp;&nbsp; If we do not need all elements in a row or column, we replace ```:``` with a range such as ```i_min : i_max```.\n",
    "\n",
    "- The dimensions of a matrix ```A``` (i.e. the number of rows and number of columns) can be obtained from the ```len``` built-in Python function\n",
    "\n",
    "```python\n",
    "    N_row = len( A[0] ) # number of rows of the matrix\n",
    "    N_col = len( A[1] ) # number of columns of the matrix\n",
    "```\n",
    "\n",
    "- To declare an $N\\times M$ matrix ```A``` with uninitialized matrix elements as\n",
    "\n",
    "```python\n",
    "    A = np.empty ( ( N , M ), dtype = data_type ) # N-by-M matrix with random initial values \n",
    "```\n",
    "\n",
    "where ```data_type``` can be any of the data types supported by Python. Using ```np.zeros``` sets the initial the matrix element values to 0, while using ```np.ones``` initializes all matrix elements to 1.\n",
    "  \n",
    "- Element-wise operations with matrices can be accomplished using the operators ```+```, ```-```, ```*```, ```/```,```np.sqrt()```, and ```**```. Note that if these operations are performed with two matrices, the dimensions ( number of rows and number of columns) of both matrices must be the same. It is very important to keep in mind that the matrix product of two matrices **A** and **B** (which can be computed with Numpy's ```matmul``` function) is not the same as ```A * B```."
   ]
  },
  {
   "cell_type": "markdown",
   "id": "2ecd7045-7f9c-46fe-bf7d-d209465d1241",
   "metadata": {},
   "source": [
    "<span style=\"color:blue\">\n",
    "\n",
    "The matrix product of an $N\\times K$ matrix $\\bf A$ with a $K\\times M$ matrix $\\bf B$ is an $ N \\times M$ matrix C. Using Python syntax, the expression for the matrix elements of $\\bf C$ can be written as \n",
    "\\begin{equation}\n",
    "C[i,j] = {\\bf A}[i,:] \\boldsymbol{\\cdot} {\\bf B}[:,j]\n",
    "\\end{equation}\n",
    "\n",
    "where $\\boldsymbol{\\cdot}$ denotes the dot product. Thus, the $ij^{\\rm th}$ element of the matrix $\\bf C$ is given by the dot product of the $i^{\\rm th}$ row of ${\\bf A}$ and the $j^{\\rm th}$ column of $\\bf B$.\n",
    "\n",
    "In the cell below, write code\n",
    "\n",
    "- for a function called ```my_matmul``` that takes as its inputs the two matrices ```M1``` and ```M2``` and returns the matrix product ```Mproduct``` of the two input matrices. If the number of columns in the matrix ```M1``` is not the same as the number of rows in ```M2```, the function should print an informative error message; otherwise, it should evaluate the matrix product as described above. You can use your ```my_ddot``` function from above or Numpy's ```dot``` function to evaluate the necessary dot products.\n",
    "  \n",
    "- that sets the number of rows (denoted ```Nr_A```) to 2 and the number of columns (denoted ```Nc_A```) to 5 for matrix ```A```\n",
    "  \n",
    "- that sets the number of rows (denoted ```Nr_B```) to 5 and the number of columns (denoted ```Nc_B```) to 3 for matrix ```B```\n",
    "  \n",
    "- that initializes the matrix ```A``` and sets the ij$^{\\rm th}$ element equal to $A_{i,j} = ij$\n",
    "  \n",
    "- that initializes the matrix ```B``` and sets the ij$^{\\rm th}$ element equal to $B_{i,j} = i^j$\n",
    "  \n",
    "- that initializes the matrix ```C``` with random values for the initial elements. ```C``` will be equal to the matrix product of ```A``` and ```B```, so choose the dimensions of ```C``` accordingly.\n",
    "  \n",
    "- that initializes the matrix ```C_check``` with random values for the initial elements and has the same dimensions as ```C```.\n",
    "  \n",
    "- that uses the function ```my_matmul``` to calculate the matrix product of ```A``` and ```B``` and then stores the result in ```C```\n",
    "  \n",
    "- uses Numpy's ```matmul``` function to calculatet the matrix product of ```A``` and ```B``` and then stores the result in ```C_check```\n",
    "  \n",
    "- the prints the largest absolute difference (denoted by the variable ```max_abs_diff```) between ```C``` and ```C_check``` (you can use Numpy's ```max``` and ```abs``` functions)\n",
    "\n",
    "</span>"
   ]
  },
  {
   "cell_type": "code",
   "execution_count": null,
   "id": "7f7fd9ca-c5d6-4443-accd-fea5fcf37b60",
   "metadata": {},
   "outputs": [],
   "source": []
  },
  {
   "cell_type": "markdown",
   "id": "980ae5be-6eeb-480a-8ccc-0600e59cea20",
   "metadata": {},
   "source": [
    "## **5.** 1-D plots"
   ]
  },
  {
   "cell_type": "markdown",
   "id": "56964bcf-e0c5-41fb-8188-77ef5bfa7e60",
   "metadata": {},
   "source": [
    "Although the ```matplotlib.pyplot``` library allows the generation of professional-quality multi-dimensional graphs, here we will focus on generating 1-D plots for practical purposes (i.e. visualizing results for one-dimensional equations). For more information, use the ```help``` functionality of Python.\n",
    "\n",
    "The library for plotting can be imported \n",
    "\n",
    "```Python \n",
    "import matplotlib.pyplot as plt\n",
    "```\n",
    "\n",
    "where ```plt``` is the shorthand for the imported library (the shorthand can obviously changed or omitted). Once the library is loaded, the general syntax for plotting data stored in an array $\\bf y$ as a function of data stored in $\\bf x$ follows the syntax\n",
    "\n",
    "```python \n",
    "plt.plot( x , y )\n",
    "``` \n",
    "where the length of the two arrays ```x``` and ```y``` must be the same. The command\n",
    "\n",
    "```python\n",
    "plt.plot( x_1 , y_1, x_2 , y_2 )\n",
    "```\n",
    "\n",
    "plots two data sets ```x_1```&```y_1``` and ```x_2```&```y_2``` in the same plot window. By default, a plot is displayed using blue lines without tickmarks, but the color of the line(s) and/or tickmarks can be changed. Some examples are\n",
    "\n",
    "- 'g-' : green solid line without tickmarks\n",
    "- 'y--': yellow dashed line without tickmarks\n",
    "- 'ro-': red solid line with red filled circle tickmarks\n",
    "- 'r+--': red dashed line with red plus tickmarks\n",
    "\n",
    "Plotting ranges and axis labels for the $x$ axis can be defined using the syntax ```plt.xlim([x_min,x_max])``` and ```plt.xlabel('x_axis_label_here ')```, respeectively. Similar syntax (with $x$ replaced by $y$) can be used for the $y$ axis. Legends can be added using ```plt.legend(['legend text'])```.\n",
    "\n",
    "To generate an array of ```N``` equally-spaced points on the interval```x_min```$\\leq x \\leq$ ```x_max``` we can use the syntax\n",
    "\n",
    "```python\n",
    "x_values = np.linspace( x_min , x_max , N )\n",
    "```\n",
    "\n",
    "where the spacing between adjacent entries in the output array ```x_values``` is $\\Delta x = \\frac{x_{max} - x_{min}}{N -1}$."
   ]
  },
  {
   "cell_type": "markdown",
   "id": "b25b720b-b0df-4c09-9609-38317b97ac74",
   "metadata": {},
   "source": [
    "<span style=\"color:blue\"> \n",
    "\n",
    "In this exercise, you will plot the two lowest-energy eigenfunctions of the particle in a box model\n",
    "\n",
    "$$\\psi_n(x) = \\sqrt{\\frac{2}{L}} {\\rm sin} \\left( \\frac{n\\pi x}{L}\\right)$$\n",
    "\n",
    "where $n= 1, 2, ...\\infty $, and $L$ is the width of the box (we will assume it is measured in units of ${\\mathring{\\rm{A}}}$.\n",
    "\n",
    "In the cell below, write code\n",
    "\n",
    "- that sets the number of points in the plot (```N_plot```) to 250.\n",
    "  \n",
    "- that sets the value of ```L``` to 1.5.\n",
    "  \n",
    "- that sets the plotting limits ```x_min```, and ```x_max``` to 0 and ```L```, respectively. Make sure that you write this so that changing the value of the variable ```L``` automatically changes the value of ```x_max```.\n",
    "  \n",
    "- that initializes the array ```x_vals``` of length ```N_plot```.\n",
    "  \n",
    "- that generates the array ```x_vals``` that contains ```N_plot``` equally-spaced points on the interval ```x_min```$\\leq x \\leq$ ```x_max```.\n",
    "  \n",
    "- that initializes a $2\\times N_{plot}$ float matrix ```psi_values```.\n",
    "  \n",
    "- that calculates the value of $\\psi_1(x)$ and $\\psi_2(x)$ at each $x$ value in ```x_vals```. Use the 0$^{\\rm th}$ row of ```psi_values``` to store the values of $\\psi_1(x)$ and use the 1$^{\\rm st}$ row of ```psi_values``` for $\\psi_2(x)$. **No need to reinvent the wheel!** You already wrote code for a function to evaluate the value of $\\psi_n(x)$ in exercise 2, so go ahead and use it!\n",
    "   \n",
    "- Using Matplotlib, plot $\\psi_1(x)$ (use a red line with not tickmarks) and $\\psi_{2}(x)$ (use a blue dashed line with no tickmarks) in one figure (include a legend and axis labels with units as appropriate, and make sure to eliminate whitespace by adjusting axis ranges as appropriate). \n",
    "\n",
    "</span> "
   ]
  },
  {
   "cell_type": "code",
   "execution_count": null,
   "id": "e7fdc1e6-cc16-4b2b-a6c7-c620fe0cefa3",
   "metadata": {},
   "outputs": [],
   "source": []
  },
  {
   "cell_type": "markdown",
   "id": "713ace30-40e0-4476-a290-9716c56432f7",
   "metadata": {
    "jp-MarkdownHeadingCollapsed": true
   },
   "source": [
    "## **6**. Numerical integration"
   ]
  },
  {
   "cell_type": "markdown",
   "id": "5d9ba866-18b9-48ed-a7d1-1cbd76a99bfb",
   "metadata": {},
   "source": [
    "Scipy's ```integrate``` subpackage contains efficeint function for numerical integration. Below, we demonstrate the use of one such function, called ```quad```. Once the ```scipy.integrate``` subpackage is loaded using\n",
    "```Python\n",
    "import scipy.integrate as spint\n",
    "```\n",
    "\n",
    "the basic syntax to use ```quad``` is\n",
    "\n",
    "```Python\n",
    "I_value = spint.quad( integrand, x_min, x_max, args=(arg_1,arg_2,...,arg_N) )[0]\n",
    "```\n",
    "where the user-defined function ```integrand```\n",
    "```Python\n",
    "def integrand(x,arg_1,arg_2,...,arg_N):\n",
    "\n",
    "```\n",
    "returns the value of the integrand at some value of $x$ given $N$ additional function arguments ```arg_1```, ```arg_2```,....,```arg_N```. If the funtion ```integrand``` does not have additional arguments, ```args``` can be omitted when using ```quad```, but **the first input argument of the function ```integrand``` must be the independent variable $\\bf x$!** For more advanced options, use ```help(spint.quad)```."
   ]
  },
  {
   "cell_type": "markdown",
   "id": "606bbecb-6b3f-430e-bc4c-1c218d0c4055",
   "metadata": {},
   "source": [
    "<span style=\"color:blue\">\n",
    "\n",
    "The normalized eigenfunctions for the particle in a box model are given by\n",
    "$$\n",
    "\\psi_n(x) = \\sqrt{\\frac{2}{L}} {\\rm sin}\\left( \\frac{n\\pi x}{L}\\right) \\hspace{1cm} n=1,2,...\\infty\n",
    "$$\n",
    "where $L$ is the width of the box. In this exercise, you will calculate the overlap integral between two particle in a box eigenfunctions taking into account that these functions are *real*\n",
    "$$\n",
    "S_{n,m} = \\int\\limits_{0}^{L} \\psi_n(x) \\psi_m(x){\\rm d} x\n",
    "$$\n",
    "Note that you should have already written a function that returns the value of $\\psi_n(x)$, so we will reuse the function in exercise 5. To calculate $S_{n,m}$, you will write code\n",
    "\n",
    "- for a function called ```overlap_integrand_value``` that calculates and returns the value of $\\psi_n(x) \\psi_m(x)$ at a certain position $x$. The only input arguments should be ```x```, ```psi_name```, ```n```, ```m```, and ```L```. It is assumed that ```psi_name( x , p , L )``` returns the value of $\\psi_p(x)$ at $x$.\n",
    "\n",
    "- that sets $L=3.0$, $x_{min}=0$, and $x_{max} = L$.\n",
    "\n",
    "- that uses ```quad``` to calculate and print $S_{n,m}$ for all pairs $1 \\leq n \\leq 5$ and $1 \\leq m \\leq 5$ (think ```for``` loops!) \n",
    "\n",
    "</span>"
   ]
  },
  {
   "cell_type": "code",
   "execution_count": null,
   "id": "4a816410-640b-4e50-9304-0591e65525e6",
   "metadata": {},
   "outputs": [],
   "source": []
  },
  {
   "cell_type": "markdown",
   "id": "0daabf30-4540-4597-869d-fe1a35311e87",
   "metadata": {
    "jp-MarkdownHeadingCollapsed": true
   },
   "source": [
    "## **7**. Curve fitting"
   ]
  },
  {
   "cell_type": "markdown",
   "id": "82e41ab9-1d34-46a1-853f-41f44b80a2fe",
   "metadata": {},
   "source": [
    "Scipy's ```optimize``` subpackage provides the versatile ```curve_fit``` function that can be used to fit user-defined functions to data. The relevant subpackage can be loaded using\n",
    "```Python\n",
    "import scipy.optimize as spopt\n",
    "```\n",
    "where the shorthand name can be defined by the user. Once the subpackage is loaded, the general syntax for the ```curve_fit``` function is\n",
    "```Python\n",
    "vars_opt,vars_cov = spopt.curve_fit(fitting_function_name,x_data,y_data,p0 = vars_guess)\n",
    "```\n",
    "The array ```y_data``` contains the $N_{\\rm data}$ measured data, ```x_data``` contains the independent variable at which the data are measured, and the optional input array ```vars_guess``` of length $N$ contains initial guesses for the $N$ fitting parameters. The user-defined function ```fitting_function_name``` defined as\n",
    "```Python\n",
    "def fitting_function_name(x , c_0 , c_1 , c_2 , ... c_N):\n",
    "```\n",
    "returns the value of the fitting function at some value of the independent variable $x$ given a fitting function that depends on $N+1$ fitting parameters (i.e. a quadratic polynomial $c_0 + c_1x + c_2x^2$ would depend on 3 variables). **It is important that the functon ```fitting_function_name``` is defined such that the first input parameter is the independent variable** (the order of the remaining variables is immaterial). On successful return, the array ```vars_opt``` contains the optimal values for the fitting parameters ```c_i = vars_opt[i]``` with $0 \\leq i \\leq N$, and the $(N+1) \\times (N+1)$ covariance matrix ```vars_cov``` can be used to estimate the error in the fitting parameters. For more details (such as imposing bouds on the fitting parameters), see the help entry for Scipy's ```curve_fit``` function."
   ]
  },
  {
   "cell_type": "markdown",
   "id": "294598c4-b0f5-41bc-b3fe-500da05ff70c",
   "metadata": {},
   "source": [
    "<span style=\"color:blue\">\n",
    "\n",
    "The data below show the electronic energy (in $\\mu E_h$, 1 $E_h = 27.2114$ eV) of H$^{35}$Cl as a function of the bond distance $R$ (in ${\\mathring{\\rm{A}}}$,  1 ${\\mathring{\\rm{A}}}$ $= 10^{-10}$ m).\n",
    "\n",
    "```Python\n",
    "R = [1.2937132816, 1.2947132816, 1.2957132816, 1.2967132816, 1.2977132816, 1.2987132816, 1.2997132816]\n",
    "E = [4.6889104510, 1.9791378918, 0.4182655289, 0.0000000000, 0.7180499892, 2.5660978054, 5.5379319974]\n",
    "```\n",
    "<br>\n",
    "Assuming that the electronic energy is a quadratic function of the bond distance\n",
    "$$\n",
    "E(R) = a_0 + a_1 R + a_2R^2,\n",
    "$$\n",
    "we can extract the equilibrium bond distance $R_e$ and the force constant $k$ by recognizing that \n",
    "$$\n",
    "\\left. \\frac{d^2 E}{dR^2} \\right\\vert_{R=R_e} = 2 a_2 =  k \\hspace{1cm} \\Rightarrow \\hspace{1cm} k = 2 a_2\n",
    "$$\n",
    "and\n",
    "$$\n",
    "\\left. \\frac{d E}{dR} \\right\\vert_{R=R_e} = a_1 + 2a_2R_e =  0 \\hspace{1cm} \\Rightarrow \\hspace{1cm} R_e = - \\frac{a_1}{2a_2}\n",
    "$$\n",
    "\n",
    "To determine $R_e$ and $k$ from the data given above, in the cell below, you will write code\n",
    "\n",
    "- for a function that named ```quandratic_polynomial``` that takes as its inputs ```x```, ```c0```, ```c1```, and ```c2```, and returns the value of the quadratic function $f(x) = c_0 + c_1 x + c_2x^2$ at some point $x$.\n",
    "  \n",
    "- that assigns two vectors ```E_vals``` and ```R_vals``` that contain the data as given above.\n",
    "\n",
    "- initializes vectors and matrices to perform a curve fit using a general quadratic polynomial.\n",
    "\n",
    "- that uses Scipy's ```curve_fit``` function to determine the optimal values for the fitting coefficients ```c0```, ```c1```, and ```c2```.\n",
    "\n",
    "- that calculates and prints the value of\n",
    "  \n",
    "    - the equilibrium bond length (in units of ${\\mathring{\\rm{A}}}$), print using decimal notation with 3 decimal places)\n",
    "    - the force constant (in units of kg$\\cdot$s$^{-2}$, print using decimal notation with 1 decimal place)\n",
    "<br>\n",
    "\n",
    "- that plots the data given in the arrays above (use blue filled circles without a line) and the quadratic polynomial (use a red dashed line without tickmarks) in the sme figure. Use $N_{plot}=100$ points for the polynomial. Make sure to adjust axis limits to eliminate whitespace, and include axis labels (with units) and a legend.\n",
    "\n",
    "</span>"
   ]
  },
  {
   "cell_type": "code",
   "execution_count": null,
   "id": "672f9f99-1872-44b9-886d-942cd0fd0818",
   "metadata": {},
   "outputs": [],
   "source": [
    "import numpy as np\n",
    "R = np.array ( [1.2937132816 , 1.2947132816 , 1.2957132816 , 1.2967132816 , 1.2977132816 , 1.2987132816 , 1.2997132816] )\n",
    "E = np.array ( [4.6889104510 , 1.9791378918 , 0.4182655289 , 0.0000000000 , 0.7180499892 , 2.5660978054 , 5.5379319974] )"
   ]
  },
  {
   "cell_type": "markdown",
   "id": "1b9c12bc-9af5-4bfc-a5f0-82920f649d8f",
   "metadata": {
    "jp-MarkdownHeadingCollapsed": true
   },
   "source": [
    "## **8**. Write code for the method of successive approximations"
   ]
  },
  {
   "cell_type": "markdown",
   "id": "d5b9826e-7cea-40ae-b5d7-e413d55dd66a",
   "metadata": {},
   "source": [
    "In this exercise, you will write code that implements the method of successive approximations. This method is useful for solving for the roots of complicated polynomials (e.g. the expressions involved in finding equilibrium concentrations) and transcendental equations (i.e. equations that do not have an analytic solution). The essence of this iterative method is as follows\n",
    "\n",
    "1. First, we rewrite the polynomial so that one side is simply equal to $x$ while the other side of the equation is a function of $x$ (i.e. $x = f(x)$). \n",
    "\n",
    "2. Next, we choose an initial guess $x_{\\rm guess}$ for the root, determine the accuracy (denoted $x_{\\rm tol}$) with which you want to determine the value of the root, set the maximum number of iterations $it_{\\rm max}$, and initialize the number of iterations to 0.  \n",
    "\n",
    "3. Using the expression for $f(x)$ and the current guess value for the root, we calculate a new value for the root $x_{\\rm new}$ (i.e. $x_{\\rm new} = f(x_{\\rm guess})$) and increase the number of iterations by 1.\n",
    "\n",
    "4. We then evaluate the absolute value of the change in the value of $x$ ($\\vert \\Delta x \\vert = \\vert x_{\\rm new} - x_ {\\rm guess} \\vert$)\n",
    "\n",
    "5. Check for termination\n",
    "   \n",
    "    A. if $\\vert \\Delta x \\vert \\leq x_{\\rm tol}$ or the maxmimum number of iterations has been reached, set $x_{\\rm root} = x_{\\rm new}$ and terminate.\n",
    "   \n",
    "    B. if $\\vert \\Delta x \\vert > x_{\\rm tol}$, set $x_{\\rm guess} = x_{\\rm new}$ and go back to step 3.\n",
    "\n",
    " 6. Repeat steps 3 - 5 until converged.\n",
    "\n",
    "Note that we can in principle carry out such a calculatoion using  calculator (hence it is quite popular), however, depending on the quality of our initial guess and/or the desired accuracy, the number of iterations can be quite large. Scipy's ```optimize``` package offers methods with better convergence characteristics, but we will not focus on those in this problem. \n",
    "\n",
    "<span style=\"color:blue\"> \n",
    "\n",
    "The radius of the sphere that encloses $P$ percent of the electron density for an electron of hydrogen in the $1s$ orbital is given by\n",
    "$$\n",
    "\\frac{P}{100} = 1 - e^{-2x} \\left(2x^2 + 2x + 1\\right)\n",
    "$$\n",
    "where the unitless quantity $x$ is related to the radius of the sphere by $r = a_0 x$ where $a_0 = 0.52918 \\hspace{1mm} {\\mathring{\\rm{A}}}$. Rewriting this expression as suggested in step 1 above, we get the transcendental equation\n",
    "$$\n",
    "x = \\frac{1}{2} \\ln \\left( \\frac{2x^2 + 2x + 1}{1 - \\frac{P}{100}} \\right)\n",
    "$$\n",
    "\n",
    "In the cell below, you will implement the method of successive approximations to solve the above transcendental equation at various values of the percentage $P$. In the cell below, you will write code\n",
    "\n",
    "- for a function called ```rhs_eqn``` that takes as its inputs the value of ```x``` and ```P```, and it returns the value of $\\frac{1}{2} \\ln \\left( \\frac{2x^2 + 2x + 1}{1 - \\frac{P}{100}} \\right)$\n",
    "\n",
    "- for a function called ```solve_transcendental_equation``` that calculates and returns the solution to a transcendental equation using the method of successive approximations (as outlined above). The only inputs to the function should be ```x_guess``` (the value of the guess for the solution), ```maxit``` (maximum number of iterations), ```xtol``` (desired accuracy for convergence), ```rhs_function_name``` (the name of the function that returns the value of the right hand side of the transcendental equation), and ```Pval``` (the value of the electron density percentage).\n",
    "\n",
    "    > Note, if the absolute value of the change in the value of the solution is smaller than ```xtol```, you can use the ```break``` statement to terminate the execution of a ```for``` loop.\n",
    "    \n",
    "    > When done correctly, this function should yield $x_{\\rm root} = 1.337030$ in $\\approx 20$ iterations with $x_{\\rm guess} = 0.0$ and $x_{\\rm tol} = 10^{-6}$.\n",
    "\n",
    "- that sets the maximum number of iterations (```it_max```) to 10000 and the tolerance (```x_tol```) to $10^{-6}$.\n",
    "\n",
    "- that sets ```P_min``` to 0.001 (essentially 0 % probability which corresponds to a vanishingly small sphere), ```P_max``` to 99.999 (essentially 100 % probability which corresponds to an \"infinitely\" large sphere).\n",
    "\n",
    "- that sets the variable ```N_P_vals``` to 500 and initializes arrays ```P_vals``` and ```x_vals``` (each of length ```N_P_vals```)\n",
    "\n",
    "- that generates the array ```P_vals``` that contains ```N_P_vals``` equally-spaced points on the interval ```P_min```$\\leq P \\leq$ ```P_max```.\n",
    "\n",
    "- that uses a ```for``` loop and ```solve_transendental_equation``` to approximately solve the transcendental equation above with ```x_tol``` accuracy in (hopefully) ```it_max``` iterations. For the first $P$ value use 0.0 for ```x_guess```; for all other points, use the value of the solution from the previous $P$ value as the initial guess.\n",
    "\n",
    "- that plots the the percentage of the electron density (on the $y$ axis) as a function of the radius $R$ of the sphere (expressed in units of ${\\mathring{\\rm{A}}}$).\n",
    "\n",
    "    > *Food for thought:* What does this graph \"tell\" you about the effective size of an orbital? What is the effective size of the $1s$ orbital if we define the effective size as the radius of the sphere that encloded 90 % of the electron density?\n",
    "\n",
    "</span>"
   ]
  },
  {
   "cell_type": "code",
   "execution_count": null,
   "id": "770184e9-8a00-4b3b-a7fa-5f5d97c069e4",
   "metadata": {},
   "outputs": [],
   "source": []
  },
  {
   "cell_type": "markdown",
   "id": "70a27acf-3fe6-42b7-bd14-7e4e065c7f16",
   "metadata": {
    "jp-MarkdownHeadingCollapsed": true
   },
   "source": [
    "# Extra credit"
   ]
  },
  {
   "cell_type": "markdown",
   "id": "45890a12-b28d-4a68-977a-e43782ccd39e",
   "metadata": {
    "jp-MarkdownHeadingCollapsed": true
   },
   "source": [
    "## **1**. Write your own function to evaluate the first and second derivative of a function"
   ]
  },
  {
   "cell_type": "markdown",
   "id": "181630f7-c271-4dff-8684-f042636550a2",
   "metadata": {},
   "source": [
    "<span style=\"color:blue\">\n",
    "\n",
    "The derivative of a function $f(x)$ at point $x_0$ may be approximated by the 5-point stencil\n",
    "\\begin{equation}\n",
    "\\left. \\frac{d f(x)}{dx}\\right\\vert_{x=x_0} \\approx \\frac{-f(x_0+2 h) + 8f(x_0+h) - 8f(x_0-h) + f(x_0-2h)}{12 h}\n",
    "\\end{equation}\n",
    "where $h$ is the width of the stencil. In this exercise, you will evaluate the first and second derivatives of the function $\\psi_n(x)$ defined in exercise 2 using a 5-point stencil. To do so, you will write code \n",
    "\n",
    "- for a function (name it ```derivative_1```) that calculates and returns the 1$^{\\rm st}$ derivative (using the 5-point stencil expression above) of the function defined in ```fname``` at the value of $x_0$ using a stencil with width $h$. The input arguments should be the function name ```fname```, ```x0```, ```h```, and any other input arguments needed to evaluate the value of the function defined in ```fname```.\n",
    "\n",
    "- for a function (name it ```derivative_2```) that calculates and returns the 2$^{\\rm nd}$ derivative (using the 5-point stencil expression above) of the function defined in ```fname``` at the value of $x_0$ using a stencil with width $h$. The input arguments should be the function name ```fname```, ```x0```, and ```h```, and any other input arguments needed to evaluate the value of the function defined in ```fname```. The function returns the 2$^{nd}$ derivative of the function defined in ```fname``` at the value of $x_0$ using a 5-point stencil with width $h$.\n",
    "\n",
    "    > Because the second derivative is just the derivative of the 1$^{\\rm st}$ derivative, the expression for the second derivative of $f(x)$ is similar to the one given above, but you have to replace the function $f(x)$ with its first derivative $f'(x)$ on the right hand side. Hence, you can simplify this function by recognizing that you can call ```derivative_1``` five times to evaluate the desired second derivative.\n",
    "\n",
    "- that assignes the value of 2.34 to the variable ```L```, the value of 2 to the variable ```n```, and sets the value of ```x0``` to $0.136 L$.\n",
    "  \n",
    "- that uses a ```for``` loop to evaluate and print the 1$^{\\rm st}$ and 2$^{\\rm nd}$ derivative of $\\psi_2(x0)$ for ech stencil width $h=1,0.1,0.01,0.001$."
   ]
  },
  {
   "cell_type": "code",
   "execution_count": null,
   "id": "b7de35ee-0225-40aa-ac4c-5af17bf07d25",
   "metadata": {},
   "outputs": [],
   "source": []
  },
  {
   "cell_type": "markdown",
   "id": "157b501c-c1a1-4200-ad9c-f235ef1ecbf9",
   "metadata": {
    "jp-MarkdownHeadingCollapsed": true
   },
   "source": [
    "## **2**. Write your own function for numerical integration "
   ]
  },
  {
   "cell_type": "markdown",
   "id": "c131b10f-7a46-4c00-88ee-7cebc6af0edb",
   "metadata": {},
   "source": [
    "<span style=\"color:blue\">\n",
    "\n",
    "The integral $I = \\int_a^bf(x)dx$ may be approximated by dividing the interval $[a,b]$ into $N$ segements where the width of each segment is $\\Delta x = \\frac{b-a}{N}$ and approximating the area of each segment by the area of a rectangle\n",
    "\\begin{equation}\n",
    "I_N = \\int_a^b f(x) dx \\approx \\sum_{i=0}^{N-1} \\left( f(a+i\\cdot \\Delta x) \\cdot \\Delta x \\right) = \\left( \\sum_{i=0}^{N-1} f(a+i\\cdot \\Delta x) \\right) \\cdot \\Delta x\n",
    "\\end{equation}\n",
    "where in the last expression, we have highlighted the fact that the width of the segment is constant and hence can be factored out of the sum. \n",
    "\n",
    "In the cell below, you will write code\n",
    "\n",
    "- for a function (name it ```function_1```) that takes as its input the value of ```x```, ```p```, ```alpha``` and returns the value of $x^p e^{-\\alpha x^2}$.\n",
    "\n",
    "- that sets the value of ```p``` to 3, the value ```alpha``` to ```0.25```\n",
    "\n",
    "- that sets the limits of integration ```a``` and ```b``` to 0.0 and 10.0, respectively.  \n",
    "\n",
    "- that uses ```my_rect_integral``` to calculate the integral $I = \\int_a^b x^p e^{-\\alpha x^2} dx$ with $N=10,10^2,10^3,10^4,10^5,10^6$ segments. Save each integral value $I_N$ in an array. As well, calculate and save in another array the error in the integral value relative to the \"exact\" value (i.e. $I_N - I_{quad}$), where $I_{quad}$ denotes the value of the integral obtained from Scipy's ```quad``` function. These calculations are best done inside a ```for``` loop. \n",
    "\n",
    "- that plots the value of the integral obtained from ```my_rect_integral``` as a function of log$_{10}(N)$.\n",
    "  \n",
    "- that plots log$_{10}(\\vert I_N - I_{exact}\\vert)$ as a function of log$_{10}(N)$.\n",
    "\n",
    "</span>"
   ]
  },
  {
   "cell_type": "code",
   "execution_count": null,
   "id": "af8fcac9-281b-481c-bf65-49d5ef594a15",
   "metadata": {},
   "outputs": [],
   "source": []
  }
 ],
 "metadata": {
  "kernelspec": {
   "display_name": "Python 3 (ipykernel)",
   "language": "python",
   "name": "python3"
  },
  "language_info": {
   "codemirror_mode": {
    "name": "ipython",
    "version": 3
   },
   "file_extension": ".py",
   "mimetype": "text/x-python",
   "name": "python",
   "nbconvert_exporter": "python",
   "pygments_lexer": "ipython3",
   "version": "3.10.14"
  }
 },
 "nbformat": 4,
 "nbformat_minor": 5
}
