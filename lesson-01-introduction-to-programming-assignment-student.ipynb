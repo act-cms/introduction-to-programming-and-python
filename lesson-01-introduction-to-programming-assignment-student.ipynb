{
 "cells": [
  {
   "cell_type": "markdown",
   "id": "c619105d-0f74-48be-b49e-decb7565f902",
   "metadata": {},
   "source": [
    "# INTRODUCTION TO PROGRAMMING AND PYTHON - ASSIGNMENT (STUDENT HANDOUT)"
   ]
  },
  {
   "cell_type": "markdown",
   "id": "161a132c-60ae-4edb-bf75-b2171cd3d207",
   "metadata": {
    "jp-MarkdownHeadingCollapsed": true
   },
   "source": [
    "## Syntax to enter scientific code in Code cells"
   ]
  },
  {
   "cell_type": "markdown",
   "id": "2755cfd5-bc8d-43b9-9b6a-3215ede50ce7",
   "metadata": {},
   "source": [
    "Once we are familiar with the programming language (Python in our case), entering code in a Code cell is pretty simple; just type away! Note that unless we specify otherwise, every single line in a code cell is interpreted by the computer as an instruction to do something. If we want to add comments to our code (which is very good practice in case others want to interpret/modify our work), we can \"comment out\" the line using the ```#``` character.\n",
    "\n",
    "```python\n",
    "# this is a comment line and will not be interpreted as an instruction to do something\n",
    "this line contains instructions for the computer to execute\n",
    "```"
   ]
  },
  {
   "cell_type": "markdown",
   "id": "8b5ba524-0a7f-4169-a96c-8928cf80fb94",
   "metadata": {
    "jp-MarkdownHeadingCollapsed": true
   },
   "source": [
    "## Syntax to format text in Markdown cells "
   ]
  },
  {
   "cell_type": "markdown",
   "id": "a38ba645-bcf3-426a-8769-bcb735efcc22",
   "metadata": {},
   "source": [
    "Below, I will highlight some tips on formatting Markdown cells. To see the underlying Markdown \"code\", **double-click this cell!**\n",
    "\n",
    "**Formatting text**\n",
    "\n",
    "- To *italicize* text, type the text you wan to italicize inside single stars like: \\*your text here\\*\n",
    "- For **bold** text, type the text you want bold inside double starts like: \\*\\*your text here\\*\\*\n",
    "- To <u>underline</u> text, enclose the underlined text in \\<u> and \\</u> like: \\<u>type text here\\</u>\n",
    "\n",
    "**Indenting text**\n",
    "\n",
    "To indent text, you can use \"Tab\" key on your keyboard. For indentation to work, each indented section of text must be followed by a blank line.\n",
    "\n",
    "No \"Tab\"\n",
    "\n",
    "    One \"Tab\"\n",
    "\n",
    "        Two \"Tab\"\n",
    "\n",
    "**Indenting text with highlighting**\n",
    "\n",
    "> To indent text once and highlight, type \">\" followed by a space, and then type the text you want to indent\n",
    ">> To indent text twice and highlight, type \">>\" followed by a space, and then the text you want to indent\n",
    ">>> To indent another level and highlight, type \">>>\" followed by a space, and then the text you want to indent\n",
    "\n",
    "\n",
    "**Bulleted lists**\n",
    "\n",
    "To create a bulleted list, each item starts with the \"-\" or the \"*\" symbol followed by a space. Bulleted lists can be combined with the \"Tab\" key.\n",
    "\n",
    "- First item in list with no indentation\n",
    "    - indented item \n",
    "    - indented item\n",
    "        - yeat another indeted item\n",
    "- Another item without indentation\n",
    "\n",
    "**Numbered lists**\n",
    "\n",
    "To create a numbered list, each line starts with the a number followed by a period (e.g., 1., 2., ...). Numbered lists can be combined with the \"Tab\" key for indentation.\n",
    "\n",
    "1. First main item\n",
    "2. Second main item\n",
    "    1. Sub item for main item #2\n",
    "    2. Sub item for main item #3\n",
    "3. Third main item\n",
    "\n",
    "**Entering equations**\n",
    "\n",
    "To enter equations you can use LaTex style input. For a cheatsheet of useful math commands in LaTex, click [here](https://quickref.me/latex.html)\n",
    "\n",
    "To enter an **inline** equation, enter it inside two $\\$$ symbols.\n",
    "\n",
    "- For an ideal gas at temperature $T$, volume $V$, pressure $P$, the moles of gas$n$  is $n = \\frac{PV}{RT}$ where $R$ is the gas constant. \n",
    "- For a normalizable wave function the integral $\\int_{-\\infty}^{+\\infty} \\vert \\psi(x)\\vert^2 d(x)$ is finite.\n",
    "  \n",
    "For an equation to be on its own line use enclose the equation between two pairs of $\\$\\$$ symbols.\n",
    "\n",
    "The wave function $\\psi(x)$ is obtained by solving the time-independent Schrödinger equation\n",
    "$$ \n",
    "\\hat{H}\\psi = E\\psi ,\n",
    "$$\n",
    "where $\\hat{H}$ is the Hamiltonian and $E$ is the energy."
   ]
  },
  {
   "cell_type": "markdown",
   "id": "f14279c5-7f7a-49d4-9ad8-c8167316f212",
   "metadata": {},
   "source": [
    "## II.1 Printing output"
   ]
  },
  {
   "cell_type": "markdown",
   "id": "0ddd7e96-b821-487d-86f4-37e76af604f6",
   "metadata": {},
   "source": [
    "When writing code (either for debugging purposes or for communicating intermediate and/or final results), you will frequently encounter the task of printing values for variables or results for expressions. At the most basic level, this can be accomplished using **unformatted printing** with the ```print``` function. \n",
    "\n",
    "When using the ```print``` function\n",
    " - regular text is enclosed in double (\") or single (') quotation marks\n",
    " - numerical values and variables (more on this below) are entered without quotation marks\n",
    " - different fields (text and numerical values are separated by commas)\n",
    "\n",
    "<br>\n",
    "\n",
    "> <u>*Exectute the cell below to produce the output and then examine the contents of the cell to see how the output relates to the code.*</u>\n",
    "\n",
    "<br>"
   ]
  },
  {
   "cell_type": "code",
   "execution_count": null,
   "id": "cc48c2dc-d076-4df4-989b-56c01f031d7b",
   "metadata": {},
   "outputs": [],
   "source": [
    "print( \"Hello world!\" )\n",
    "print( 2.5 + 3.4 )\n",
    "print( \"The result of 2.5 + 3.4 is equal to\" , 2.5 + 3.4 )\n",
    "print( 'The result of 2.5 + 3.4 is equal to' , 2.5 + 3.4 , \"and the result of 2.5 - 3.4 is equal to\" , 2.5 - 3.4 )"
   ]
  },
  {
   "cell_type": "markdown",
   "id": "6dc47da2-18f6-481b-99b5-e9286fadd083",
   "metadata": {},
   "source": [
    "However, it is oftentimes desirable to use **formatted printing** so that the printed output is aesthetically pleasing.\n",
    "\n",
    "- formatted printing of integers follows the syntax ```%.CHARACTERSd```, where the integer is printed in ```CHARACTERS``` characters, and ```d``` specifies that an integer is printed\n",
    "  \n",
    "- formatted printing of floats in *decimal notation* follows the syntax ```%CHARACTERS.DECIMALSf```, where the float is printed with ```DECIMALS``` decimal places and in ```CHARACTERS``` characters (including the decimals and the decimal period), and ```f``` specifies that decimal notation is used.\n",
    "    - If the float contains more decimal places than specified in the format statement, the value of the float is rounded to the nearest decimal specified in format.\n",
    "    - If you are unsure of how many charcters are required for printing, you can omit ```CHARACTERS``` from the format statement.\n",
    "      \n",
    "- formatted printing of floats in *engineering notation* follows the syntax ```%CHARACTERS.DECIMALSe```, where the float is printed with ```DECIMALS``` decimal places in ```CHARACTERS``` characters (including the decimals and the decimal period), and ```e``` specifies that engineering notation is used.\n",
    "    - If the float contains more decimal places in scientific notation than specified in the format statement, the value of the float is rounded to the nearest decimal specified in format.\n",
    "    - If you are unsure of how many charcters are required for printing, you can omit ```CHARACTERS``` from the format statement.\n",
    "\n",
    "There are multiple ways to use formatted printing, and the examples below demonstrate how to use an approach called f-string printing. The syntax is similar to regular printing, \n",
    "\n",
    "```Python\n",
    "print(F('text here {variable_1:format_for_variable_1} some more text here {variable_2:format_for_variable_2} ...' )\n",
    "```\n",
    "\n",
    "with a few exceptions.\n",
    "\n",
    "- The first character inside the parentheses must be F or f\n",
    "- variable values to be printed are placed in curly brackets\n",
    "- if desired, the formatting of the printout is indicated by typing a colon (:) after the variable name followed by the format\n",
    " description\n",
    "\n",
    "<br>\n",
    "\n",
    "> <u>*Exectute the cell below to produce the output and then examine the contents of the cell to see how the output relates to the code.*</u>\n",
    "\n",
    "<br>"
   ]
  },
  {
   "cell_type": "code",
   "execution_count": null,
   "id": "4e5215de-955f-47f9-9384-abc6769c4753",
   "metadata": {},
   "outputs": [],
   "source": [
    "# formatted printing of integers \n",
    "#(in this case the integer is 16)\n",
    "\n",
    "print(F'The printed value 16 of in 2 characters is {16:2d}')\n",
    "print(F'The printed value 16 of in 3 characters is {16:3d}')\n",
    "print(F'The printed value 16 of in 4 characters is {16:4d}')\n",
    "print(\"\")\n",
    "\n",
    "# formatted printing of floats using decimal notation \n",
    "#(in this case, the float to be printed is 12.3456789)\n",
    "\n",
    "print(F'The printed value of 12.3456789 rounded to 1 decimal places in 6 characters is {12.3456789:6.1f}' )  \n",
    "print(F'The printed value of 12.3456789 rounded to 2 decimal places in 6 characters is {12.3456789:6.2f}' )\n",
    "print(F'The printed value of 12.3456789 rounded to 3 decimal places in 6 characters is {12.3456789:6.3f}' )\n",
    "print(F'The printed value of 12.3456789 rounded to 5 decimal places in an unspecifieed number of characters is {12.3456789:.5f}' )\n",
    "print(\"\")\n",
    "\n",
    "# formatted printing of floats using scientific/engineering notation \n",
    "#(in this case, the float to be printed is 12.3456789)\n",
    "\n",
    "print(F'The printed value of 12.3456789 with 2 decimal places in 10 characters using engineering notation is {12.3456789:10.2e}' )\n",
    "print(F'The printed value of 12.3456789 with 3 decimal places in 10 characters using engineering notation is {12.3456789:10.3e}' ) \n",
    "print(F'The printed value of 12.3456789 with 3 decimal places in 11 characters using engineering notation is {12.3456789:11.3e}' )\n",
    "print(F'The printed value of 12.3456789 with 3 decimal places and an unspecified number of characters using engineering notation is {12.3456789:.3e}' )\n",
    "print(\"\")\n",
    "\n",
    "# We can combine the above syntax for formatted printing of output from several operations on one line \n",
    "#(in this case, the integer and float to be printed are 16 and 12.3456789, respectively)\n",
    "\n",
    "print(F'The printed value 16 of in 2 characters is {16:2d}, the printed value of 12.3456789 rounded to 1 decimal places in 6 characters is {12.3456789:6.1f}')"
   ]
  },
  {
   "cell_type": "markdown",
   "id": "eb7313ee-3699-4bc4-b7d3-2576f9f001cf",
   "metadata": {},
   "source": [
    "<div style=\"background-color: #dee3ee;\"> \n",
    "    \n",
    "**Now you do it** In the cell below, write code that prints\n",
    "\n",
    "- the value of the integer 253 in 4 characters\n",
    "- the value of the float 3.1416 in 6 characters with 3 decimal places\n",
    "- the value of the gas constant 0.08314462 L$\\cdot$bar$\\cdot$K$^{-1}\\cdot$mol$^{-1}$ in scientific notation using 4 decimal places. You need not include the units and keep the number of characters unspecified. \n",
    "\n",
    "</div>"
   ]
  },
  {
   "cell_type": "code",
   "execution_count": null,
   "id": "3867a602-6d8f-45e9-a6bd-e2659f1e0639",
   "metadata": {},
   "outputs": [],
   "source": []
  },
  {
   "cell_type": "markdown",
   "id": "d875868c-66f8-48f1-bbab-8b9dd4364195",
   "metadata": {
    "jp-MarkdownHeadingCollapsed": true
   },
   "source": [
    "## II.2 Variable types, variable assignment, type casting"
   ]
  },
  {
   "cell_type": "markdown",
   "id": "8c4bc37d-8576-4b79-a06d-1655855e86a3",
   "metadata": {},
   "source": [
    "### Variable assignment"
   ]
  },
  {
   "cell_type": "markdown",
   "id": "2ac1754b-0db9-43e5-a4e9-aa293e4483d9",
   "metadata": {},
   "source": [
    "To declare a variable in Python, we can use the ```=``` sign. \n",
    "\n",
    "<br>\n",
    "\n",
    "> <u>*Exectute the cell below to produce the output and then examine the contents of the cell to see how the output relates to the code.*</u>\n",
    "\n",
    "<br>"
   ]
  },
  {
   "cell_type": "code",
   "execution_count": null,
   "id": "17465d0d-34bd-418d-9f22-0828f978c33b",
   "metadata": {},
   "outputs": [],
   "source": [
    "# set the value of a equal to 2.1678\n",
    "a = 2.1678\n",
    "\n",
    "# print the value of a with 2 decimal places\n",
    "print(f'the value of a is {a:.2f}')"
   ]
  },
  {
   "cell_type": "markdown",
   "id": "bbf6626b-019c-4721-9714-f54194c21c17",
   "metadata": {},
   "source": [
    "### Varible types"
   ]
  },
  {
   "cell_type": "markdown",
   "id": "d86105f3-476a-423a-ac67-8c74abe27320",
   "metadata": {},
   "source": [
    "There are many variable/data types in Python. For our purposes, we will focus on the following data types\n",
    "\n",
    "1. string - combination of characters such as \"Greg\" \n",
    "2. integer - whole numbers (positive and negative)\n",
    "3. float - numbers with decimals (positive or negative)\n",
    "4. boolean - True or False\n",
    "\n",
    "**<span style=\"color:red\"> NOTE THAT VARIABLE NAMES IN PYTHON ARE CASE SENSITIVE! </span>**"
   ]
  },
  {
   "cell_type": "code",
   "execution_count": null,
   "id": "f03d8958-90ae-4564-b470-53187efce696",
   "metadata": {},
   "outputs": [],
   "source": [
    "# below is the \"lengthy\" syntax to define strings, integers, floats, and booleans\n",
    "a_string = str(1)    # define 1 as a string\n",
    "a_int    = int(1)    # define 1 as an integer\n",
    "a_float  = float(1)  # define 1 as a float\n",
    "a_boolean = bool(1)  # define 1 as a boolean"
   ]
  },
  {
   "cell_type": "markdown",
   "id": "77871d9e-4143-4f36-a8b7-74d99745cf9e",
   "metadata": {},
   "source": [
    "We can inquire about the data type of a variable using the ```type``` function as illustrated below.\n",
    "\n",
    "<br>\n",
    "\n",
    "> <u>*Exectute the cell below to produce the output and then examine the contents of the cell to see how the output relates to the code.*</u>\n",
    "\n",
    "<br>"
   ]
  },
  {
   "cell_type": "code",
   "execution_count": null,
   "id": "d1ec467b-73cf-485b-8761-a82bc2f89dc0",
   "metadata": {},
   "outputs": [],
   "source": [
    "# Use the type function to inquire about the data type of each variable defined above\n",
    "\n",
    "print( \"The data type of a_string is:\" , type(a_string) )\n",
    "print( \"The data type of a_int is:\" , type(a_int) )\n",
    "print( \"The data type of a_float is:\" , type(a_float) )\n",
    "print( \"The data type of a_boolean is:\" , type(a_boolean) )"
   ]
  },
  {
   "cell_type": "markdown",
   "id": "d3312e43-75ba-4aa8-958d-293a791b1aeb",
   "metadata": {},
   "source": [
    "If the data type is not specified, Python interprets it from user input. Entering the value of a variable as a number \n",
    "\n",
    "- inside single quotes (e.g. '5') automatically sets the variable type to string\n",
    "- *without* decimal places or without the trailing ```.``` character (e.g. 5) automatically sets the variable type to int.\n",
    "- *with* decimal places or with the trailing ```.``` character  (e.g. 5.) automatically sets the variable type to float.\n",
    "- expressed in engineering notation (e.g. 5.e0) automatically sets the variable type to float.\n",
    "\n",
    "<br>\n",
    "\n",
    "> <u>*Exectute the cell below to produce the output and then examine the contents of the cell to see how the output relates to the code.*</u>\n",
    "\n",
    "<br>"
   ]
  },
  {
   "cell_type": "code",
   "execution_count": null,
   "id": "8de7b90d-4abc-4257-b375-aaaf2124352a",
   "metadata": {},
   "outputs": [],
   "source": [
    "# the example below demonstrates how Python assigns data types based on the format of user entry \n",
    "\n",
    "# placing something inside '...' single quotes implies that the variable is a string\n",
    "b_string  = '5'\n",
    "\n",
    "# entering a whole number without a decimal place implies the variable is an integer\n",
    "b_int     = 5\n",
    "\n",
    "# entering a number with a decimal place implies that the variable is a float\n",
    "b_float_1 = 5.\n",
    "\n",
    "# entering the\n",
    "b_float_2 = 5.e0\n",
    "\n",
    "# entering True or False implies that the variable is a boolean\n",
    "b_boolean = True\n",
    "\n",
    "# print the types for the variables\n",
    "print( \"The data type of b_string= \" , b_string , \"is:\" , type(b_string) )\n",
    "print( \"The data type of b_int= \" , b_int , \" is:\" , type(b_int) )\n",
    "print( \"The data type of b_float_1= \" , b_float_1 , \" is:\" , type(b_float_1) )\n",
    "print( \"The data type of b_float_2= \" , b_float_2 , \" is:\" , type(b_float_2) )\n",
    "print( \"The data type of b_boolean= \" , b_boolean,\" is:\" , type(b_boolean) )"
   ]
  },
  {
   "cell_type": "code",
   "execution_count": null,
   "id": "479aa529-1ff4-473e-a163-a6a38f9685cf",
   "metadata": {},
   "outputs": [],
   "source": [
    "display_quiz(intro_variable_entry)"
   ]
  },
  {
   "cell_type": "markdown",
   "id": "505bb4a1-be64-4f51-8c1b-223b04fad48f",
   "metadata": {
    "jp-MarkdownHeadingCollapsed": true
   },
   "source": [
    "### Basic operations with variables"
   ]
  },
  {
   "cell_type": "markdown",
   "id": "9f1ea754-ee1b-4b79-8758-5bb67edc5cc6",
   "metadata": {},
   "source": [
    "Addition, subtraction, multiplication, division, and exponentiation is accomplished with the ```+```, ```-```, ```*```, ```/```, and ```**``` characters, respectively. The operations follow the usual order of operations (to find out more, click [here](https://en.wikipedia.org/wiki/Order_of_operations))."
   ]
  },
  {
   "cell_type": "code",
   "execution_count": null,
   "id": "74b822c4-ad32-4ec0-bbd7-518b7dfddb74",
   "metadata": {},
   "outputs": [],
   "source": [
    "# The example below demonstrates how to do simple arithmetic with variables\n",
    "\n",
    "# Define two integers\n",
    "a = 4\n",
    "b = 2\n",
    "\n",
    "# Perform simple operations with a and b\n",
    "print( \"a+b =\" , a + b )\n",
    "print( \"a-b =\" , a - b )\n",
    "print( \"a*b =\" , a * b )\n",
    "print( \"a/b =\" , a / b )\n",
    "print( \"a**b = \" , a**b )"
   ]
  },
  {
   "cell_type": "code",
   "execution_count": null,
   "id": "6cb96216-fea8-48e6-9650-eafb1bcf0235",
   "metadata": {},
   "outputs": [],
   "source": [
    "display_quiz(intro_order_of_operations)"
   ]
  },
  {
   "cell_type": "markdown",
   "id": "12edb5f0-4945-4fb9-b579-961b7ba028df",
   "metadata": {},
   "source": [
    "<div style=\"background-color: #dee3ee;\"> \n",
    "    \n",
    "**Now you do it** In the cell below, write code which declares two float variables \n",
    "\n",
    "- F = 0.1\n",
    "- x = 1.0e-3\n",
    "\n",
    "and then evaluates and prints (using scientific notation with 2 decimal places) the value of the equilibrium constant $K$\n",
    "\n",
    "$$\n",
    "K = \\frac{x\\left( 6x\\right)^6 }{F - x}\n",
    "$$\n",
    "</div>"
   ]
  },
  {
   "cell_type": "code",
   "execution_count": null,
   "id": "2dff13e8-63f1-4136-9ef3-b8ede7813dc3",
   "metadata": {},
   "outputs": [],
   "source": []
  },
  {
   "cell_type": "markdown",
   "id": "e3a4c65a-f8b7-4156-b226-310a16d67854",
   "metadata": {
    "jp-MarkdownHeadingCollapsed": true
   },
   "source": [
    "### Type casting"
   ]
  },
  {
   "cell_type": "markdown",
   "id": "92b7cac1-7d76-4fe7-83c4-817455484e7d",
   "metadata": {},
   "source": [
    "In some cases, it is necessary to convert between variable types (i.e. express an integer as a float or vice versa). This operation is called **casting**. To create a variable ```cast_variable``` we use the syntax ```cast_variable = cast_variable_data_type(original_variable)```, where ```cast_variable_data_type``` is the data type we want the original variable ```original_data``` to be casted to. The examples below demonstrate data casting and rounding of floats to integers. \n",
    "\n",
    "<br>\n",
    "\n",
    "> <u>*Exectute the cell below to produce the output and then examine the contents of the cell to see how the output relates to the code.*</u>\n",
    "\n",
    "<br>"
   ]
  },
  {
   "cell_type": "code",
   "execution_count": null,
   "id": "6aec22fd-2933-4360-9fc5-2b55d5b7adb5",
   "metadata": {},
   "outputs": [],
   "source": [
    "# Example to demonstrate casting\n",
    "# define 2 floats, 1 int, and 2 booleans\n",
    "a_float = 1.6\n",
    "b_float = 1.4\n",
    "c_int = 2\n",
    "bool_true  = True\n",
    "bool_false = False\n",
    "\n",
    "# Convert floats to integers to demonstrate that floats are ALWAYS ROUNDED DOWN\n",
    "print( \"int(\" , a_float , \") =\" , int(a_float) )\n",
    "print( \"int(\" , b_float , \") =\" , int(b_float) )\n",
    "\n",
    "# Convert integer to a float\n",
    "print( \"float(\" , c_int , \") =\" , float(c_int) )\n",
    "\n",
    "# Convert Booleans to integers to demonstrate that False = 0 and True = 1\n",
    "print( \"int(\" , bool_true , \") =\" , int(bool_true) )\n",
    "print( \"int(\" , bool_false , \") =\" , int(bool_false) )"
   ]
  },
  {
   "cell_type": "code",
   "execution_count": null,
   "id": "a27ecc9b-e5b1-48e3-a0f7-c72a18dc104b",
   "metadata": {},
   "outputs": [],
   "source": [
    "display_quiz(intro_int_to_bool_cast)"
   ]
  },
  {
   "cell_type": "markdown",
   "id": "cd9dddb9-d116-4092-9ab5-c1915fd5eca5",
   "metadata": {},
   "source": [
    "Operations with variables can be classified into three kinds of arithmetic:\n",
    "\n",
    "- Floating-point arithmetic: sequence of operations that only involves floats; the result will be of type float. <br>\n",
    "- Mixed arithmetic: sequence of operations that involves both floats and integers; the result will be of type float. <br>\n",
    "- Integer arithmetic: sequence of operations that only involves integers; result can be an integer (for ```+```, ```-```, ```*```, or integer powers of integers) or a float (```/``` or noninteger powers of integers)\n",
    "\n",
    "In the case of *mixed arithmetic,* it is good practice to cast integers to float.\n",
    "\n",
    "<br>\n",
    "\n",
    "> <u>*Exectute the cell below to produce the output and then examine the contents of the cell to see how the output relates to the code.*</u>\n",
    "\n",
    "<br>"
   ]
  },
  {
   "cell_type": "code",
   "execution_count": null,
   "id": "a7bb49ff-bf90-46a3-bfb8-081bfbc66986",
   "metadata": {},
   "outputs": [],
   "source": [
    "# The example below demonstrates good programming practices when using mixed arithmetic\n",
    "\n",
    "# Define 1 integer, 1 float, and 1 string\n",
    "a = 2\n",
    "b = 3.0\n",
    "\n",
    "# This would be the \"good\" way to add integers and floats\n",
    "a_plus_b_good = float(a) + b\n",
    "\n",
    "# This would be the \"bad\" way to add integers and floats\n",
    "a_plus_b_bad = a + b\n",
    "\n",
    "print( \"This represents good programming manners:\" , a_plus_b_good )\n",
    "print( \"Although the result is the same in Python, this represents bad programming manners:\" , a_plus_b_bad )"
   ]
  },
  {
   "cell_type": "markdown",
   "id": "04a88189-6129-4ec7-a850-68ecce2a59d7",
   "metadata": {},
   "source": [
    "As you might expect, arithmetic that combines integers or floats with strings does not make sense and results in runtime errors (errors that you get when executing code). Furthermore, it is possible to \"add\" two strings, however, us humans call this operation concatenation.\n",
    "\n",
    "<br>\n",
    "\n",
    "> <u>*Exectute the cell below to produce the output and then examine the contents of the cell to see how the output relates to the code.*</u>\n",
    "\n",
    "<br>"
   ]
  },
  {
   "cell_type": "code",
   "execution_count": null,
   "id": "f76e5a5e-335a-47d8-91e4-d281c6acd555",
   "metadata": {},
   "outputs": [],
   "source": [
    "# This code below demonstrates the addition/concetenation of two strings as well as the\n",
    "# error that results from the addition of strings and integers or floats      \n",
    "b_int  = 3\n",
    "b_string = '3'\n",
    "c_string = '10'\n",
    "\n",
    "# print values of variables\n",
    "print(f\"b_int = {b_int}, b_string = '{b_string}', and c_string = '{c_string}'\")\n",
    "\n",
    "# add two strings (this will not result in an error)\n",
    "print(f\"addition (a.k.a. concatenation) of b_string and c_string = {b_string+c_string}\")\n",
    "\n",
    "# add an integer and a string (this will result in an error)\n",
    "print(f\"addition of b_int and c_string = {b_int+c_string}\")"
   ]
  },
  {
   "cell_type": "markdown",
   "id": "f4fe39fe-c173-470c-8310-9402077033ec",
   "metadata": {},
   "source": [
    "**<span style=\"color:red\"> NOTE that Python exectues the code until it reaches an incorrect piece of code and then does its best to tell us where our mistakes are!**\n",
    "\n",
    "<span style=\"color:red\"> For example, the above error message highlights the piece/line of code (b_int+c_string) where we commited the error, and the TypeError message tells us what the error is (in this case, addition of an 'int' and a 'str'. Depending on the error context, decyphering the error message may be harder or easier. At first, more complicated error messages may appear gibberish, but you will develop an intuition for interpreting them over time. </span>"
   ]
  },
  {
   "cell_type": "markdown",
   "id": "27e23050-828a-449d-b71f-44119da94dea",
   "metadata": {
    "jp-MarkdownHeadingCollapsed": true
   },
   "source": [
    "## II.3 Program execution sequence"
   ]
  },
  {
   "cell_type": "markdown",
   "id": "a023bf9d-a6f4-437c-9c98-1c9453638924",
   "metadata": {},
   "source": [
    "Computer code is executed in sequence, which in the case of \n",
    "\n",
    "- Jupyter notebooks means from the first cell in the Jupyter notebook to last cell.\n",
    "- a piece of code inside a cell means from the first line to the last line.\n",
    "\n",
    "Thus, changing the value of a variable in the notebook will not change the values of preceeding calculations that used that variable.\n",
    "\n",
    "<br>\n",
    "\n",
    "> <u>*Exectute the cell below to produce the output and then examine the contents of the cell to see how the output relates to the code.*</u>\n",
    "\n",
    "<br>"
   ]
  },
  {
   "cell_type": "code",
   "execution_count": null,
   "id": "a54bdc09-0e6f-4944-b407-0d6f33721919",
   "metadata": {},
   "outputs": [],
   "source": [
    "# define two integers\n",
    "a = 2\n",
    "b = 3\n",
    "\n",
    "# calculate the sum of a and b and print the result\n",
    "c = a + b\n",
    "print( \"The value of a, b, and c = a + b are\" , a , b , c, \" ... that is what I learned in elementary school\" )\n",
    "\n",
    "# only update the value of b -- this leaves the values of a and c unchanged!\n",
    "b = 4\n",
    "print( \"The value of a, b, and c = a + b are\" , a , b , c , \" ... that's malarkey\" )"
   ]
  },
  {
   "cell_type": "code",
   "execution_count": null,
   "id": "276babee-5add-4691-8955-7ac22718b3c4",
   "metadata": {},
   "outputs": [],
   "source": [
    "display_quiz(intro_execution_sequence)"
   ]
  },
  {
   "attachments": {},
   "cell_type": "markdown",
   "id": "f886f941-26e2-49e2-9dff-fcc7f681ed9a",
   "metadata": {},
   "source": [
    "## II.4 Comparison operators"
   ]
  },
  {
   "cell_type": "markdown",
   "id": "a47186a3-e6a9-49c9-81fa-557524bc88c4",
   "metadata": {},
   "source": [
    "Comparison (relational operators) compare the values of two variables and return True (1) if the condition is met or False (0) if the condition is not met. In general, there are six comparison operators\n",
    "\n",
    "1. ```==``` equal to; a == b returns True if $a$ and $b$ are equal\n",
    "2. ```!=``` not equal to; a != b returns True if $a$ and $b$ are not equal\n",
    "3. ```<``` less than; a < b returns True is $a$ is less than $b$\n",
    "4. ```<=``` less than or equal to; a <= b returns True if $a$ is less than or equal to $b$\n",
    "5. ```>``` greater than; a > b returns True is $a$ is greater than $b$\n",
    "6. ```>=``` greater than or equal to; a >= b returns True if $a$ is greater than or equal to $b$\n",
    "\n",
    "**NOTE**: Mixed comparisons of float, boolean, and integer data types (e.g. comparing the value of an integer to a float) can be performed, but a string can only be compared to another string. \n",
    "\n",
    "When two quantities are compared, the result can be ```True```(```1```) or ```False```(```0```) as demonstrated in the code below.\n",
    "\n",
    "<br>\n",
    "\n",
    "> <u>*Exectute the cell below to produce the output and then examine the contents of the cell to see how the output relates to the code.*</u>\n",
    "\n",
    "<br>"
   ]
  },
  {
   "cell_type": "code",
   "execution_count": null,
   "id": "8cc5c95a-7348-44b6-8c92-825807b42739",
   "metadata": {},
   "outputs": [],
   "source": [
    "# here, we first set the values of two integer variables a and b\n",
    "a = 4\n",
    "b = 2\n",
    "\n",
    "# now, we first check to see if the value of a is not equal to b and then save the result (True/False) to the variable result_1 \n",
    "result_1 = 4!= 2\n",
    "print(f\"Is the statement '{a:d} is not equal to {b:d}' true or false? {result_1}\")"
   ]
  },
  {
   "cell_type": "markdown",
   "id": "435a1b17-ba30-4915-a60d-1587b357c7eb",
   "metadata": {},
   "source": [
    "Nested comparison statements are evalauted in order, starting with the innermost comparison statement. To see this, let's interpret the results of the code snippets below.\n",
    "\n",
    "<br>\n",
    "\n",
    "> <u>*Exectute the cell below to produce the output and then examine the contents of the cell to see how the output relates to the code.*</u>\n",
    "\n",
    "<br>"
   ]
  },
  {
   "cell_type": "code",
   "execution_count": null,
   "id": "a7b4c09c-ae6b-4d29-895b-bfe9b1cb660b",
   "metadata": {},
   "outputs": [],
   "source": [
    "# evaluate the result of a nested comparisons\n",
    "result = ( 3 >= ( 4 != 2 ) )\n",
    "\n",
    "# print the result\n",
    "print(f\"The result of the nested comparisons '( 3 >= ( 4 != 2 ) )' is {result}\")"
   ]
  },
  {
   "cell_type": "markdown",
   "id": "9ba50cf1-e79d-454f-bc7b-4f27bd074189",
   "metadata": {},
   "source": [
    "To understand why the result is True, we examine the above code.\n",
    "\n",
    "1. The innermost comparison ( 4 != 2 ) yields the result True, which is the same as the integer 1.\n",
    "2. The next comparison takes the result from 1 and evaluates the expression ( 2 >= 1 ). This yields, True since 2 is greater than 1.\n",
    "\n",
    "<br>\n",
    "\n",
    "> <u>*Exectute the cell below to produce the output and then examine the contents of the cell to see how the output relates to the code.*</u>\n",
    "\n",
    "<br>"
   ]
  },
  {
   "cell_type": "code",
   "execution_count": null,
   "id": "dc61ba9a-60f2-4a6e-9be8-1769a3b33033",
   "metadata": {},
   "outputs": [],
   "source": [
    "# evaluate the result of a nested comparisons\n",
    "result = ( ( 3 == 2 ) >= ( 4 != 2 ) )\n",
    "\n",
    "# print the result\n",
    "print(f\"The result of the nested comparisons '( ( 3 == 2 ) >= ( 4 != 2 ) )' is {result}\")"
   ]
  },
  {
   "cell_type": "markdown",
   "id": "45e77d03-6434-44b0-8e0e-f9150e27feb8",
   "metadata": {},
   "source": [
    "To understand why the result is False, we examine the above code.\n",
    "\n",
    "1. There are two innermost comparisons that evaluate to\n",
    "    1. ( 3 == 2 ) yields the result False, which is the same as the integer 0.\n",
    "    2. ( 4 != 2 ) yields the result True, which is the same as the integer 1.\n",
    "3. Next, the results from 1.A and 1.B are compares using integer arithmetic. Since 0 is not smaller than 1, the result of the comparison ( 0 > = 1 ) is False. "
   ]
  },
  {
   "cell_type": "code",
   "execution_count": null,
   "id": "a2dec38a-91d0-43a8-aae0-093d15f58021",
   "metadata": {},
   "outputs": [],
   "source": [
    "display_quiz(intro_nested_comparison_statements)"
   ]
  },
  {
   "cell_type": "markdown",
   "id": "cc4e8221-db5b-48c1-9f73-00b6f717172a",
   "metadata": {},
   "source": [
    "## II.5 Conditional statements"
   ]
  },
  {
   "cell_type": "markdown",
   "id": "025e7694-83fc-4929-8709-6761a191384d",
   "metadata": {},
   "source": [
    "Conditional statements, also known as if-then statements, can be used in programming to execute parts of code only when certain conditions are met. The general syntax is\n",
    "\n",
    "```python\n",
    "if ( condition_1 ): \n",
    "    indented block of code that is executed if condition_1 is true \n",
    "elif ( condition_2 ):\n",
    "    indented block of code that is executed if condition_2 is true \n",
    "else:\n",
    "    indented block of code that is executed if none of the preceeding conditions are met\n",
    "    \n",
    "undindented (relative to the line where the if statement was started) code that is independent of the if statements\n",
    "```\n",
    "\n",
    "The code below demonstrates the use of conditional statements. \n",
    "\n",
    "<br>\n",
    "\n",
    "> <u>*Exectute the cell below to produce the output and then examine the contents of the cell to see how the output relates to the code.*</u>\n",
    "\n",
    "<br>"
   ]
  },
  {
   "cell_type": "code",
   "execution_count": null,
   "id": "5bb16c3e-b70e-4f02-8cb1-0b9dcc902647",
   "metadata": {},
   "outputs": [],
   "source": [
    "customer_name = 'Bob'\n",
    "\n",
    "if ( customer_name == 'Bob' ):\n",
    "    \n",
    "    print(\"The customer is Bob\")\n",
    "    \n",
    "elif ( customer_name == 'John' ):\n",
    "\n",
    "    print('The customer is John')\n",
    "\n",
    "else:\n",
    "    print(\"Unknown customer\")"
   ]
  },
  {
   "cell_type": "markdown",
   "id": "8509e0eb-b87b-4022-b343-281c25eb2d7e",
   "metadata": {},
   "source": [
    "More than one condition can be combined in an if statement using the ```and``` and ```or``` logical operators. The code below demonstrates how to determine if the value of a variable ```a``` is simultaneously (hence the ```and```) smaller than or greater the value of two other variables ```b``` and ```c```.\n",
    "\n",
    "<br>\n",
    "\n",
    "> <u>*Exectute the cell below to produce the output and then examine the contents of the cell to see how the output relates to the code.*</u>\n",
    "\n",
    "<br>"
   ]
  },
  {
   "cell_type": "code",
   "execution_count": 9,
   "id": "cc6b0476-1135-4d94-a0f3-4d3f76f9cecc",
   "metadata": {},
   "outputs": [],
   "source": [
    "# assign three integer variables\n",
    "a = 2\n",
    "b = 1\n",
    "c = 4\n",
    "\n",
    "# compare the values\n",
    "\n",
    "# check to see if a is greater than both b and c\n",
    "if ( ( a > b ) and ( a > c ) ):\n",
    "    \n",
    "    print(f\"a={a:d} is greater than both b={b:d} and c={c:d})\")\n",
    "\n",
    "# check to see if a is smaller than both b and c\n",
    "elif ( ( a < b ) and ( a < c ) ):\n",
    "\n",
    "    print(f\"a={a:d} is less than both b={b:d} and c={c:d})\")"
   ]
  },
  {
   "cell_type": "markdown",
   "id": "5d5ae50a-f307-479f-b2eb-890a2f62f4d4",
   "metadata": {},
   "source": [
    "Note that the above code does not provide us useful information about cases when the value of ```a``` is smaller than/greater than one of the other two variables. To accomplish this, we can use *nested* conditional statements as the code demonstrates below.\n",
    "\n",
    "<br>\n",
    "\n",
    "> <u>*Exectute the cell below to produce the output and then examine the contents of the cell to see how the output relates to the code.*</u>\n",
    "\n",
    "<br>"
   ]
  },
  {
   "cell_type": "code",
   "execution_count": null,
   "id": "0a6e482d-36c8-4995-b58c-75bddce0fb35",
   "metadata": {},
   "outputs": [],
   "source": [
    "# declare three variables \n",
    "a = 2\n",
    "b = 1\n",
    "c = 4\n",
    "\n",
    "# a > b\n",
    "if ( a > b ):\n",
    "\n",
    "    # a > c\n",
    "    if ( a > c ):\n",
    " \n",
    "        print(f\"{a:d} > {b:d} and {a:d} > {c:d}\")\n",
    "\n",
    "    # a < c\n",
    "    elif ( a < c ):\n",
    "\n",
    "        print(f\"{a:d} > {b:d} and {a:d} < {c:d}\")\n",
    "\n",
    "elif ( a < b ):\n",
    "\n",
    "    # a > c\n",
    "    if ( a > c ):\n",
    " \n",
    "        print(f\"{a:d} < {b:d} and {a:d} > {c:d}\")\n",
    "\n",
    "    # a < c\n",
    "    elif ( a < c ):\n",
    "\n",
    "        print(f\"{a:d} < {b:d} and {a:d} < {c:d}\") "
   ]
  },
  {
   "cell_type": "markdown",
   "id": "64595c60-9a9f-4a5f-9d01-675af0684b2b",
   "metadata": {},
   "source": [
    "**NOTE** Once a condition (or set of conditions) is satisfied, the relevant block of code is executed and the computer starts executing code *after* the conditional statements. Because code execution proceeds sequentially from top to bottom, the ordering of complex if-then constructs with multiple conditions can affect the output in perhaps \"unexpected\" ways. <br>"
   ]
  },
  {
   "cell_type": "markdown",
   "id": "12ea3168-14e9-49ff-bc65-deab06acdf6e",
   "metadata": {},
   "source": [
    "<div style=\"background-color: #dee3ee;\"> \n",
    "    \n",
    "**Now you do it** If you take a closer look at the code above, you will notice that it does not provide information in cases when the value of ```a``` is equal to either the value of ```b``` or the value of ```c``` (go ahead and check). That is because the code above only considers 4 of the 9 possibilities when comparing the value of ```a``` to both the value of ```b``` and ```c```.\n",
    "\n",
    "Starting with the code above (you can copy-paste if you'd like) create a nested if-then construct that exhaust all 9 possibilities and prints the relationships between the value of ```a``` the value of ```b``` and ```c```.\n",
    "\n",
    "</div>"
   ]
  },
  {
   "cell_type": "code",
   "execution_count": null,
   "id": "86984a85-ff97-41a9-9c56-6785f3160f08",
   "metadata": {},
   "outputs": [],
   "source": []
  },
  {
   "cell_type": "markdown",
   "id": "b05da6c5-6d95-4bdf-b242-6b18cdacde3c",
   "metadata": {
    "jp-MarkdownHeadingCollapsed": true
   },
   "source": [
    "# Import libraries"
   ]
  },
  {
   "cell_type": "markdown",
   "id": "aafeb5f5-f005-4443-8ce7-8feec038e2b8",
   "metadata": {},
   "source": [
    "You only need to import libraries once and you are ready to use them anywhere in the Jupyter notebook. To improve the readability of your solutions to the exercises below, import all libraries in the cell below."
   ]
  },
  {
   "cell_type": "code",
   "execution_count": null,
   "id": "13aa17b6-dae1-45c8-978d-b7b36ef04513",
   "metadata": {},
   "outputs": [],
   "source": []
  },
  {
   "cell_type": "markdown",
   "id": "a1c87b51-b908-4105-bac6-4aacac715c35",
   "metadata": {},
   "source": [
    "# Complete the problems below"
   ]
  },
  {
   "cell_type": "markdown",
   "id": "0be15314-b868-4099-9c35-325beaa05000",
   "metadata": {},
   "source": [
    "## **1.** ```for``` loops"
   ]
  },
  {
   "cell_type": "markdown",
   "id": "869d9f7d-9b8f-4c32-a1b7-bfd78c0386c4",
   "metadata": {},
   "source": [
    "```For``` loops are programming constructs that repeatedly execute a block of code until some termination criterion is met. In scientific applications, they are most commonly used to perform iterations and/or access elements of vectors and/or matrices. <br>\n",
    "\n",
    "The basic syntax for a ```for``` loop follows the following structure <br>\n",
    "\n",
    "```python\n",
    "for iteration_variable in range( min_iteration_varibale_value , max_iteration_variable_value ):\n",
    "    indented block of code that is executed\n",
    "\n",
    "this un-indented (relative to the line where the for loop was started) code does not get repeated\n",
    "```\n",
    "\n",
    "A few notes on for loops in Python\n",
    "\n",
    "- The name of the iteration variable can be anything, but it must be be an integer!\n",
    "- If ```min_iteration_variable_value``` is omitted, it is assumed to be 0.\n",
    "- In Python, the above syntax implies that ```min_iteration_variable_value``` $\\leq$ ```iteration_variable``` $\\lt$ ```max_iteration_variable_value```\n",
    "- in principle, the indentation can be any number of spaces, however, the default is equivalent to the ```Tab``` key.\n",
    "\n",
    "and thus, the code inside the for loop is executed (```max_iteration_variable_value``` - ```min_iteration_variable_value```) times. <br>"
   ]
  },
  {
   "cell_type": "markdown",
   "id": "9aa9cde2-4e5b-4d61-a61a-c3602cbb6aa3",
   "metadata": {},
   "source": [
    "<span style=\"color:blue\">\n",
    "\n",
    "In the cell below, write code for a ```for``` loop that calculates $N!$ ($N$ factorial)\n",
    "\\begin{equation}\n",
    "N\\! = 1 \\times 2 \\times ... \\times (N-1) \\times N = \\prod_{i=1}^{N} i\n",
    "\\end{equation}\n",
    "Test your code to make sure it gives the correct result. To see how you should implement the for loop, you can think of $N!$ recursively. For example, $4!$ can be written as\n",
    "\n",
    "\\begin{equation}\n",
    "4! = ( \\hspace{1mm} ( \\hspace{1mm} ( \\hspace{1mm} {\\color{red}( \\hspace{1mm} 1 \\times 1 \\hspace{1mm} ) } \\hspace{1mm} \\times 2 \\hspace{1mm} ) \\times 3 \\hspace{1mm} ) \\times 4  \\hspace{1mm} ) = ( \\hspace{1mm} ( \\hspace{1mm} {\\color{red} ( \\hspace{1mm} 1 \\hspace{1mm} \\times 2 \\hspace{1mm} ) } \\times 3 \\hspace{1mm} ) \\times 4  \\hspace{1mm} )  = ( \\hspace{1mm} {\\color{red}( \\hspace{1mm} 2 \\times 3 \\hspace{1mm} ) } \\times 4  \\hspace{1mm} ) =  { \\color{red} ( \\hspace{1mm} 6 \\times 4  \\hspace{1mm} )} = 24\n",
    "\\end{equation}\n",
    "\n",
    "where, at each step, the multiplication in the innermost parenthesis (indicated in red) is performed first and the resulting value is used in the next step. Note that you will need to initialize the value of the factorial. In the case of a sum (see live coding example), the initial value of the sum was 0. Would that work for $N$ factorial? If not, what initial value would be appropriate? \n",
    "\n",
    "</span>"
   ]
  },
  {
   "cell_type": "code",
   "execution_count": null,
   "id": "fbda5539-f7ea-47a4-9863-de0c878f8ba9",
   "metadata": {},
   "outputs": [],
   "source": []
  },
  {
   "cell_type": "markdown",
   "id": "b0a6ce46-9601-46de-92ba-b591917a1674",
   "metadata": {},
   "source": [
    "It is possible to place loops inside loops; such loop constructs are referred to as *nested loops*. The example below deomnstrates the general syntax for two nested loops.\n",
    "\n",
    "```python\n",
    "\n",
    "for outer_iteration_variable in range( min_outer_iteration_variable_value , max_outer_iteration_variable_value):\n",
    "\n",
    "    1a. indented block of code that is executed repeatedly (before the inner for loop is executed)\n",
    "    \n",
    "    for inner_iteration_variable in range( min_inner_iteration_variable_value , max_inner_iteration_variable_value):\n",
    "\n",
    "        2.a double-indented block of code that is executed repeatedly\n",
    "\n",
    "    1.b indented block of code that is executed repeatedly (after the inner for loop is executed)\n",
    "\n",
    "un-indented block of code that is not executed repeatedly\n",
    "```\n",
    "\n",
    "A couple of notes related to nested loops\n",
    "\n",
    "- The block of code (2.a) in the inner loop is edxecuted for every value of inner_iteration_variable and outer_iteration_variable. \n",
    "- The blocks of code (1.a and 2.a) in the outer loops are exectued for every value of outer_iteration_variable. \n",
    "- In principle, it is possible to nest as many loops as one needs to achieve a given task.\n"
   ]
  },
  {
   "cell_type": "markdown",
   "id": "ccf57b85-b23a-478f-baba-40ef7b201bb4",
   "metadata": {},
   "source": [
    "<span style=\"color:blue\">\n",
    "\n",
    "In the cell below, write code with nested ```for``` loops that evaluate the sum \n",
    "\\begin{equation}\n",
    "S_N = \\sum_{i=-1}^{N} \\sum_{j=i}^{2N} i^j\n",
    "\\end{equation}\n",
    "\n",
    "That is, add up all numbers $i^j$ such that $-1 \\leq i \\leq N$ and $i \\leq j \\leq 2N$ for some $N$. For example, for $N=1$, the sum is given by\n",
    "\\begin{equation}\n",
    "S_1 = (-1)^{\\color{red}-1} + (-1)^{\\color{red}0} + (-1)^{\\color{red}1} + (-1)^{\\color{red}2} + (0)^{\\color{red}0} + (0)^{\\color{red}1} + (0)^{\\color{red}2} + (1)^{\\color{red}1} + (1)^{\\color{red}2} = 3\n",
    "\\end{equation}\n",
    "where the $\\rm \\color{red} exponents$ correspond to values of $j$ included in the sum and values of $i$ are inside the parenthesis in blue. To help you in checking your code further, $S_3 = 1211$. Note that because the lower limit for the sum over $j$ depends on the value of $i$, the inner loop should be the loop over $j$.\n",
    "</span>"
   ]
  },
  {
   "cell_type": "code",
   "execution_count": null,
   "id": "c505a43d-301e-40a1-9c08-2e4531f62406",
   "metadata": {},
   "outputs": [],
   "source": []
  },
  {
   "cell_type": "markdown",
   "id": "567459a9-d822-453f-90b8-1751281d43cb",
   "metadata": {},
   "source": [
    "## **2.** User-defined functions"
   ]
  },
  {
   "cell_type": "markdown",
   "id": "dc0c8c85-d35e-4f28-a719-5ee13a12267f",
   "metadata": {},
   "source": [
    "Functions, in the context of programming behave in a manner similar to mathematical functions. Given some list of input variables, a function executes a block of code (presumably using the input variables) and returns a list of outputs. The general Python syntax is\n",
    "\n",
    "```Python\n",
    "def my_function_name(input_1,input_2,...,input_N_in):\n",
    "\n",
    "    '''\n",
    "    Text describing the function and its use (DocStrings)\n",
    "    '''\n",
    "\n",
    "    indented block of code that is executed by the function\n",
    "\n",
    "    return output_1,output_2,...,output_N_out\n",
    "```\n",
    "\n",
    "Using functions in code is advantageous because\n",
    "\n",
    "- it allows reusing code\n",
    "- it increases the readability/interpretability of code\n",
    "- it increases the efficiency of debugging\n",
    "\n",
    "A few notes on functions\n",
    "\n",
    "- function names should be descriptive so that they give the user an idea of what operations that function may perform\n",
    "- it is good practice to include a description (using DocStrings) of the function that provides more information than can be gathered from the name of the function\n",
    "- variables that are declared *inside* the function are only \"known\" *inside* the function Formally, one says that a variable created inside the function belongs to the local scope of the function and can only be used inside the function.\n",
    "- the input/output variable names used in the function **DO NOT** have to be the same as the input/output variable names used outside the function.\n",
    "- input arguments of Python functions are passed by value, and thus, changing their value inside the function does not change their values outside the function. To change the values of input variables, one must also declare them as outputs.\n",
    "- input arguments of Python functions can be other Python functions.\n",
    "- although variables declared outside a function are global variables (i.e. they are accessible anywhere in the code once they are declared), it is good practice to <span style=\"color:red\"> **pass all variables used by a function as input variables. We will use this convention throughout ALL exercises!** </span>"
   ]
  },
  {
   "cell_type": "markdown",
   "id": "f0e1c16a-f52c-48c9-bc40-98a82302fa1f",
   "metadata": {},
   "source": [
    "<span style=\"color:blue\">\n",
    "\n",
    "In the cell below, write code\n",
    "\n",
    "- for a function named ```piab_psi_n``` that evaluates and returns the value of the function\n",
    "$$\\psi_n(x) = \\sqrt{\\frac{2}{L}} {\\rm sin} \\left( \\frac{n\\pi x}{L}\\right)$$\n",
    "at some point $x$ given the inputs ```x```, ```n```, and ```L```. **NOTE** Keep the variable ```x``` as the first input argument for ```piab_psi_n``` (the specific order of the remaining variables does not matter).\n",
    "\n",
    "- that uses ```piab_psi_n``` to calculate and print the value (decimal notation with 4 decimal places) of\n",
    "    - $\\psi_1(0.2)$ with $L=1.0$\n",
    "    - $\\psi_2(1.0)$ with $L=2.0$\n",
    "\n",
    "</span>"
   ]
  },
  {
   "cell_type": "code",
   "execution_count": null,
   "id": "45e65102-2a3c-4fb3-b6ce-128279cfb427",
   "metadata": {},
   "outputs": [],
   "source": []
  },
  {
   "cell_type": "markdown",
   "id": "5e35c5d1-e9f5-4834-bf0d-9cb1f2ef8173",
   "metadata": {},
   "source": [
    "## **3.** 1-D Numpy arrays (vectors)"
   ]
  },
  {
   "cell_type": "markdown",
   "id": "27dc8778-4ee2-43f9-8f3f-f1a473094e66",
   "metadata": {},
   "source": [
    "A vector in the context of programming is a one-dimensional data structure that is used to store a sequence of elements. In Python, there are two types of vectors, lists and Numpy arrays. Here, we will focus on properties of the latter; when I use the term array, I really mean Numpy array.\n",
    "\n",
    " - The individual elements of an array  can be any of the data types supported by Python (e.g. float, int, string, or boolean) but all elements in an array must be of the same data type.\n",
    "\n",
    "- Assuming that the Numpy library is imported as ```np```, a vector ${\\bf v} = \\left( -1, 5, 6 \\right)$, can be manually defined using the syntax\n",
    "\n",
    "```python\n",
    "    v = np.array( [ -1 , 5 , 6 ] )\n",
    "``` \n",
    "    \n",
    " - The length of the array (i.e. the number of entries) can be obtained from the ```len``` built-in Python function\n",
    "\n",
    "```python\n",
    "    array_length = len( v ) # number of entries in the array\n",
    "```\n",
    "\n",
    " -   The i$^{\\rm th}$ element of the array can be accessed using ```a[i]```. **NOTE** We generally think of -1 as being the first element of the array ```v```. However, because Python uses *zero indexing*, -1 actually corresponds to the 0$^{\\rm th}$ element. This zero indexing can cause some headaches initially, so pay attention and be patient.\n",
    "   \n",
    " - A subset of elements of an array (ilso called a *slice*) can be accessed using the syntax\n",
    "```python\n",
    "    array[i_min:i_max] # elements i_min through i_min - 1 of the array\n",
    "```\n",
    "\n",
    "- Element-wise (i.e. an operation is performed on each individual element of an array) operations with arrays can be accomplished using the operators ```+```, ```-```, ```*```, ```/```,```np.sqrt()```, and ```**```. Note that if these operations are performed with 2 vectors, the length of both vectors must be the same.\n",
    "\n",
    "As we will see later, it is often the case that we do not know the values stored in an array but we k. In these cases, we can allocate memory for an array of length $N$ using the syntax \n",
    "\n",
    "```python \n",
    "uninitialized_array = np.empty( N , dtype = data_type ) # declare an array of length N with random initial values\n",
    "``` \n",
    "\n",
    "where ```data_type``` can be any of the Python variable type (int, float, string, boolean, etc. ). Omitting the ```dtype``` argument defaults to an array of floats. Note that the initial values for the array elements are random numbers; if we want to set the initial value of all elements to 0 we can use\n",
    "```python\n",
    "zero_array = np.zeros( N , dtype = data_type ) # declare an array of length N with 0 as the initial values\n",
    "```\n",
    "Alternatively, we can define an array of all 1s as\n",
    "```python\n",
    "one_array = np.ones( N , dtype = data_type ) # declare an array of length N with 1 as the initial values\n",
    "```\n",
    "\n",
    "Once the array is initialized, we can access and manipulate its elements using the explicit indexing introduced above (not very useful in the general case) or using ```for``` loops."
   ]
  },
  {
   "cell_type": "markdown",
   "id": "fc57449c-92de-47a6-8651-278df1b29422",
   "metadata": {},
   "source": [
    "<span style=\"color:blue\">\n",
    "\n",
    "In the cell below, write code \n",
    "\n",
    "- for a function (call it ```my_ddot```) that calculates the dot product of two vectors ($\\bf A$ and $\\bf B$ both of length $N$) given by\n",
    "\\begin{equation}\n",
    "{\\rm dot\\_product} = \\sum_{i=0}^{N-1} A[i] * B[i]\n",
    "\\end{equation}\n",
    "The only inputs to the function ```my_ddot``` should be the vectors ```A``` and ```B``` and you should use the built-in ```len``` function to determine the length of the arrays inside the function. The function should return the value ```dot_product```.\n",
    "\n",
    "- that sets the value of the variable ```N``` to 4.\n",
    "- that initializes two float vectors (denoted ```v1``` and ```v2```) of length ```N``` and then sets the vector elements according to\n",
    "    - $v1[i] = i^3 \\hspace{1.5cm}$ for $0 \\leq i \\lt N$\n",
    "    - $v2[i]=-i+3\\hspace{0.6cm}$ for $0 \\leq i \\lt N$  \n",
    "<br>\n",
    "\n",
    "- that calculates and prints the value of the dot product between the two vectors ```v1``` and ```v2```.\n",
    "\n",
    "- that compares your value for the dot product with the one from using Numpy's ```dot``` function.\n",
    "</span>"
   ]
  },
  {
   "cell_type": "code",
   "execution_count": null,
   "id": "43229115-b0bf-46ae-aaea-7dacf9f89c97",
   "metadata": {},
   "outputs": [],
   "source": []
  },
  {
   "cell_type": "markdown",
   "id": "9665e1ad-6538-4347-bbc2-a92983739423",
   "metadata": {},
   "source": [
    "## **4.** 2-D Numpy arrays (matrices)"
   ]
  },
  {
   "cell_type": "markdown",
   "id": "1e3aacff-8728-4810-8596-945e337297ff",
   "metadata": {},
   "source": [
    "Matrices can be thought of as 2-dimensional arrays where entries in the matrix (called matrix elements) are indexed by two indeces, a row index and a column index. For example, a matrix with $N$ rows and $M$ columns (called an $N$-by-$M$ or $N\\times M$ matrix) is \n",
    "\\begin{equation}\n",
    "{\\bf A} = \n",
    "\\begin{pmatrix}\n",
    "A_{0,1} & A_{0,1} & \\dots  & A_{0,M} \\\\\n",
    "A_{1,1} & A_{1,1} & \\dots  & A_{1,M} \\\\\n",
    "\\vdots & \\vdots   & \\ddots & \\vdots  \\\\\n",
    "A_{N-1,0} & A_{N-1,1} & \\dots  & A_{N-1,M-1}\n",
    "\\end{pmatrix}\n",
    "\\end{equation}\n",
    "\n",
    "The above notation uses the zero indexing scheme of Python where both the row index and column indeces start at 0. The syntax for initializing and manipulating matrices require relatively simple extensions of the syntax used for vectors; instead of using one index, we use 2 indeces and we have to keep in mind that the first index correponds to the row index and the column index is the second index.\n",
    "\n",
    "- The value of the matrix element in the i$^{\\rm th}$ row and j$^{\\rm th}$ column of an $N\\times M$ matrix ```A``` can be accessed using ```A[ i , j ]```\n",
    "\n",
    " - A subset of elements of an matrix can be accessed using the syntax\n",
    "   \n",
    "```python\n",
    "    A[ : , j ] # j-th column of the matrix (this will be a vector of length N )\n",
    "    A[ i , : ] # i-th row of the matrix ( this will be a vector of length M)\n",
    "```\n",
    "\n",
    "&emsp;&nbsp; If we do not need all elements in a row or column, we replace ```:``` with a range such as ```i_min : i_max```.\n",
    "\n",
    "- The dimensions of a matrix ```A``` (i.e. the number of rows and number of columns) can be obtained from the ```len``` built-in Python function\n",
    "\n",
    "```python\n",
    "    N_row = len( A[0] ) # number of rows of the matrix\n",
    "    N_col = len( A[1] ) # number of columns of the matrix\n",
    "```\n",
    "\n",
    "- To declare an $N\\times M$ matrix ```A``` with uninitialized matrix elements as\n",
    "\n",
    "```python\n",
    "    A = np.empty ( ( N , M ), dtype = data_type ) # N-by-M matrix with random initial values \n",
    "```\n",
    "\n",
    "where ```data_type``` can be any of the data types supported by Python. Using ```np.zeros``` sets the initial the matrix element values to 0, while using ```np.ones``` initializes all matrix elements to 1.\n",
    "  \n",
    "- Element-wise operations with matrices can be accomplished using the operators ```+```, ```-```, ```*```, ```/```,```np.sqrt()```, and ```**```. Note that if these operations are performed with two matrices, the dimensions ( number of rows and number of columns) of both matrices must be the same. It is very important to keep in mind that the matrix product of two matrices **A** and **B** (which can be computed with Numpy's ```matmul``` function) is not the same as ```A * B```."
   ]
  },
  {
   "cell_type": "markdown",
   "id": "2ecd7045-7f9c-46fe-bf7d-d209465d1241",
   "metadata": {},
   "source": [
    "<span style=\"color:blue\">\n",
    "\n",
    "The matrix product of an $N\\times K$ matrix $\\bf A$ with a $K\\times M$ matrix $\\bf B$ is an $ N \\times M$ matrix C. Using Python syntax, the expression for the matrix elements of $\\bf C$ can be written as \n",
    "\\begin{equation}\n",
    "C[i,j] = {\\bf A}[i,:] \\boldsymbol{\\cdot} {\\bf B}[:,j]\n",
    "\\end{equation}\n",
    "\n",
    "where $\\boldsymbol{\\cdot}$ denotes the dot product. Thus, the $ij^{\\rm th}$ element of the matrix $\\bf C$ is given by the dot product of the $i^{\\rm th}$ row of ${\\bf A}$ and the $j^{\\rm th}$ column of $\\bf B$.\n",
    "\n",
    "In the cell below, write code\n",
    "\n",
    "- for a function called ```my_matmul``` that takes as its inputs the two matrices ```M1``` and ```M2``` and returns the matrix product ```Mproduct``` of the two input matrices. Your function should evaluate the matrix product as described above. You can use your ```my_ddot``` function from above or Numpy's ```dot``` function to evaluate the necessary dot products.\n",
    "  \n",
    "- that sets the number of rows (denoted ```Nr_A```) to 2 and the number of columns (denoted ```Nc_A```) to 5 for matrix ```A```\n",
    "  \n",
    "- that sets the number of rows (denoted ```Nr_B```) to 5 and the number of columns (denoted ```Nc_B```) to 3 for matrix ```B```\n",
    "  \n",
    "- that initializes the matrix ```A``` and sets the ij$^{\\rm th}$ element equal to $A_{i,j} = ij$\n",
    "  \n",
    "- that initializes the matrix ```B``` and sets the ij$^{\\rm th}$ element equal to $B_{i,j} = i^j$\n",
    "  \n",
    "- that initializes the matrix ```C``` with random values for the initial elements. ```C``` will be equal to the matrix product of ```A``` and ```B```, so choose the dimensions of ```C``` accordingly.\n",
    "  \n",
    "- that initializes the matrix ```C_check``` with random values for the initial elements and has the same dimensions as ```C```.\n",
    "  \n",
    "- that uses the function ```my_matmul``` to calculate the matrix product of ```A``` and ```B``` and then stores the result in ```C```\n",
    "  \n",
    "- uses Numpy's ```matmul``` function to calculatet the matrix product of ```A``` and ```B``` and then stores the result in ```C_check```\n",
    "\n",
    "</span>"
   ]
  },
  {
   "cell_type": "code",
   "execution_count": null,
   "id": "7f7fd9ca-c5d6-4443-accd-fea5fcf37b60",
   "metadata": {},
   "outputs": [],
   "source": []
  },
  {
   "cell_type": "markdown",
   "id": "980ae5be-6eeb-480a-8ccc-0600e59cea20",
   "metadata": {},
   "source": [
    "## **5.** 1-D plots"
   ]
  },
  {
   "cell_type": "markdown",
   "id": "56964bcf-e0c5-41fb-8188-77ef5bfa7e60",
   "metadata": {},
   "source": [
    "Although the ```matplotlib.pyplot``` library allows the generation of professional-quality multi-dimensional graphs, here we will focus on generating 1-D plots for practical purposes (i.e. visualizing results for one-dimensional equations). For more information, use the ```help``` functionality of Python.\n",
    "\n",
    "The library for plotting can be imported \n",
    "\n",
    "```Python \n",
    "import matplotlib.pyplot as plt\n",
    "```\n",
    "\n",
    "where ```plt``` is the shorthand for the imported library (the shorthand can obviously changed or omitted). Once the library is loaded, the general syntax for plotting data stored in an array $\\bf y$ as a function of data stored in $\\bf x$ follows the syntax\n",
    "\n",
    "```python \n",
    "plt.plot( x , y )\n",
    "``` \n",
    "where the length of the two arrays ```x``` and ```y``` must be the same. The command\n",
    "\n",
    "```python\n",
    "plt.plot( x_1 , y_1, x_2 , y_2 )\n",
    "```\n",
    "\n",
    "plots two data sets ```x_1```&```y_1``` and ```x_2```&```y_2``` in the same plot window. By default, a plot is displayed using blue lines without tickmarks, but the color of the line(s) and/or tickmarks can be changed. Some examples are\n",
    "\n",
    "- 'g-' : green solid line without tickmarks\n",
    "- 'y--': yellow dashed line without tickmarks\n",
    "- 'ro-': red solid line with red filled circle tickmarks\n",
    "- 'r+--': red dashed line with red plus tickmarks\n",
    "\n",
    "Plotting ranges and axis labels for the $x$ axis can be defined using the syntax ```plt.xlim([x_min,x_max])``` and ```plt.xlabel('x_axis_label_here ')```, respeectively. Similar syntax (with $x$ replaced by $y$) can be used for the $y$ axis. Legends can be added using ```plt.legend(['legend text'])```."
   ]
  },
  {
   "cell_type": "markdown",
   "id": "b25b720b-b0df-4c09-9609-38317b97ac74",
   "metadata": {},
   "source": [
    "<span style=\"color:blue\"> \n",
    "\n",
    "In this exercise, you will plot the two lowest-energy eigenfunctions of the particle in a box model\n",
    "\n",
    "$$\\psi_n(x) = \\sqrt{\\frac{2}{L}} {\\rm sin} \\left( \\frac{n\\pi x}{L}\\right)$$\n",
    "\n",
    "where $n= 1, 2, ...\\infty $, and $L$ is the width of the box.\n",
    "\n",
    "In the cell below, write code\n",
    "\n",
    "- that sets the number of points in the plot (```N_plot```) to 250.\n",
    "  \n",
    "- that sets the value of ```L``` to 1.5.\n",
    "  \n",
    "- that sets the plotting limits ```x_min```, and ```x_max``` to 0 and ```L```, respectively. Make sure that you write this so that changing the value of the variable ```L``` automatically changes the value of ```x_max```.\n",
    "  \n",
    "- that initializes the array ```x_vals``` of length ```N_plot```.\n",
    "  \n",
    "- that generates the array ```x_vals``` that contains ```N_plot``` equally-spaced points on the interval ```x_min```$\\leq x \\leq$ ```x_max```.\n",
    "  \n",
    "- that initializes a $2\\times N_{plot}$ float matrix ```psi_values```.\n",
    "  \n",
    "- that calculates the value of $\\psi_1(x)$ and $\\psi_2(x)$ at each $x$ value in ```x_vals```. Use the 0$^{\\rm th}$ row of ```psi_values``` to store the values of $\\psi_1(x)$ and use the 1$^{\\rm st}$ row of ```psi_values``` for $\\psi_2(x)$. **No need to reinvent the wheel!** You already wrote code for a function to evaluate the value of $\\psi_n(x)$ in exercise 2, so go ahead and use it!\n",
    "   \n",
    "- Using Matplotlib, plot $\\psi_1(x)$ and $\\psi_{2}(x)$ in one figure (include a legend and acis labels, and make sure to eliminate whitespace by adjusting axis ranges as appropriate). \n",
    "\n",
    "</span> "
   ]
  },
  {
   "cell_type": "code",
   "execution_count": null,
   "id": "e7fdc1e6-cc16-4b2b-a6c7-c620fe0cefa3",
   "metadata": {},
   "outputs": [],
   "source": []
  },
  {
   "cell_type": "markdown",
   "id": "713ace30-40e0-4476-a290-9716c56432f7",
   "metadata": {},
   "source": [
    "## **6**. Numerical integration"
   ]
  },
  {
   "cell_type": "markdown",
   "id": "5d9ba866-18b9-48ed-a7d1-1cbd76a99bfb",
   "metadata": {},
   "source": [
    "Scipy's ```integrate``` subpackage contains efficeint function for numerical integration. Below, we demonstrate the use of one such function, called ```quad```. Once the ```scipy.integrate``` subpackage is loaded using\n",
    "```Python\n",
    "import scipy.integrate as spint\n",
    "```\n",
    "\n",
    "the basic syntax to use ```quad``` is\n",
    "\n",
    "```Python\n",
    "spint.quad( integrand, x_min, x_max, args=(arg_1,arg_2,...,arg_N) )\n",
    "```\n",
    "where the user-defined function ```integrand```\n",
    "```Python\n",
    "def integrand(x,arg_1,arg_2,...,arg_N):\n",
    "\n",
    "```\n",
    "returns the value of the integrand at some value of $x$ given $N$ additional function arguments ```arg_1```, ```arg_2```,....,```arg_N```. If the funtion ```integrand``` does not have additional arguments, ```args``` can be omitted when using ```quad```, but **the first input argument of the function ```integrand``` must be the independent variable $\\bf x$!** For more advanced options, use ```help(spint.quad)```."
   ]
  },
  {
   "cell_type": "markdown",
   "id": "606bbecb-6b3f-430e-bc4c-1c218d0c4055",
   "metadata": {},
   "source": [
    "<span style=\"color:blue\">\n",
    "\n",
    "The normalized eigenfunctions for the particle in a box model are given by\n",
    "$$\n",
    "\\psi_n(x) = \\sqrt{\\frac{2}{L}} {\\rm sin}\\left( \\frac{n\\pi x}{L}\\right) \\hspace{1cm} n=1,2,...\\infty\n",
    "$$\n",
    "where $L$ is the width of the box. In this exercise, you will calculate the overlap integral between two particle in a box eigenfunctions taking into account that these functions are *real*\n",
    "$$\n",
    "S_{n,m} = \\int\\limits_{0}^{L} \\psi_n(x) \\psi_m(x){\\rm d} x\n",
    "$$\n",
    "Note that you should have already written a function that returns the value of $\\psi_n(x)$, so we will reuse the function in exercise 5. To calculate $S_{n,m}$, you will write code\n",
    "\n",
    "- for a function called ```overlap_integral_value``` that calculates and returns the value of $\\psi_n(x) \\psi_m(x)$ at a certain position $x$. The only input arguments should be ```x```, ```piab_psi_n```, ```n```, ```m```, and ```L```.\n",
    "  \n",
    "- for a function (call it ```overlap_integral```) that evaluates and returns the value of the integral\n",
    "$$\n",
    "\\int\\limits_{x_{min}}^{x_{max}} \\psi_n(x) \\psi_m(x){\\rm d} x\n",
    "$$\n",
    "using ```scipy.integrate.quad()```. The only inputs to the function should be ```integrand_name``` (the name of the function that calculates the value of the integrand), ```x_min```, ```x_max```, ```L```, ```n```, ```m```, and ```eigenfunction_name``` (the name of the function that evaluates the value of $\\psi_n(x)$). **DO NOT** assume that $m=n$, $x_{min} = 0$, or $x_{max} =L$.\n",
    "\n",
    "- that sets $L=3.0$, $x_{min}=0$, and $x_{max} = L$.\n",
    "- that uses ```overlap_integral_value``` to calculate and print $S_{n,m}$ for all pairs $1 \\leq n \\leq 5$ and $1 \\leq m \\leq 5$ (think ```for``` loops!) \n",
    "\n",
    "</span>"
   ]
  },
  {
   "cell_type": "code",
   "execution_count": null,
   "id": "4a816410-640b-4e50-9304-0591e65525e6",
   "metadata": {},
   "outputs": [],
   "source": []
  },
  {
   "cell_type": "markdown",
   "id": "0daabf30-4540-4597-869d-fe1a35311e87",
   "metadata": {},
   "source": [
    "## **7**. Curve fitting"
   ]
  },
  {
   "cell_type": "markdown",
   "id": "82e41ab9-1d34-46a1-853f-41f44b80a2fe",
   "metadata": {},
   "source": [
    "Scipy's ```optimize``` subpackage provides the versatile ```curve_fit``` function that can be used to fit user-defined functions to data. The relevant subpackage can be loaded using\n",
    "```Python\n",
    "import scipy.optimize as spopt\n",
    "```\n",
    "where the shorthand name can be defined by the user. Once the subpackage is loaded, the general syntax for the ```curve_fit``` function is\n",
    "```Python\n",
    "vars_opt,vars_cov = spopt.curve_fit(fitting_function_name,x_data,y_data,p0 = vars_guess)\n",
    "```\n",
    "The array ```y_data``` contains the $N_{\\rm data}$ measured data, ```x_data``` contains the independent variable at which the data are measured, and the optional input array ```vars_guess``` of length $N$ contains initial guesses for the $N$ fitting parameters. The user-defined function ```fitting_function_name``` defined as\n",
    "```Python\n",
    "def fitting_function_name(x , c_0 , c_1 , c_2 , ... c_N):\n",
    "```\n",
    "returns the value of the fitting function at some value of the independent variable $x$ given a fitting function that depends on $N+1$ fitting parameters (i.e. a quadratic polynomial $c_0 + c_1x + c_2x^2$ would depend on 3 variables). **It is important that the functon ```fitting_function_name``` is defined such that the first input parameter is the independent variable** (the order of the remaining variables is immaterial). On successful return, the array ```vars_opt``` contains the optimal values for the fitting parameters ```c_i = vars_opt[i]``` with $0 \\leq i \\leq N$, and the $(N+1) \\times (N+1)$ covariance matrix ```vars_cov``` can be used to estimate the error in the fitting parameters. For more details (such as imposing bouds on the fitting parameters), see the help entry for Scipy's ```curve_fit``` function."
   ]
  },
  {
   "cell_type": "markdown",
   "id": "294598c4-b0f5-41bc-b3fe-500da05ff70c",
   "metadata": {},
   "source": [
    "<span style=\"color:blue\">\n",
    "\n",
    "The data below show the electronic energy (in $\\mu E_h$, 1 $E_h = 27.2114$ eV) of H$^{35}$Cl as a function of the bond distance $R$ (in ${\\mathring{\\rm{A}}}$,  1 ${\\mathring{\\rm{A}}}$ $= 10^{-10}$ m).\n",
    "\n",
    "```Python\n",
    "R = [1.2937132816, 1.2947132816, 1.2957132816, 1.2967132816, 1.2977132816, 1.2987132816, 1.2997132816]\n",
    "E = [4.6889104510, 1.9791378918, 0.4182655289, 0.0000000000, 0.7180499892, 2.5660978054, 5.5379319974]\n",
    "```\n",
    "<br>\n",
    "Assuming that the electronic energy is a quadratic function of the bond distance\n",
    "$$\n",
    "E(R) = a_0 + a_1 R + a_2R^2,\n",
    "$$\n",
    "we can extract the equilibrium bond distance $R_e$ and the force constant $k$ by recognizing that \n",
    "$$\n",
    "\\left. \\frac{d^2 E}{dR^2} \\right\\vert_{R=R_e} = 2 a_2 =  k \\hspace{1cm} \\Rightarrow \\hspace{1cm} k = 2 a_2\n",
    "$$\n",
    "and\n",
    "$$\n",
    "\\left. \\frac{d E}{dR} \\right\\vert_{R=R_e} = a_1 + a_2R_e =  0 \\hspace{1cm} \\Rightarrow \\hspace{1cm} R_e = - \\frac{a_1}{a_2}\n",
    "$$\n",
    "\n",
    "To determine $R_e$ and $k$ from the data given above, in the cell below, you will write code\n",
    "\n",
    "- for a function that named ```cubic_polynomial``` that takes as its inputs ```x```, ```c0```, ```c1```, and ```c2```, and returns the value of the quadratic function $f(x) = c_0 + c_1 x + c_2x^2$ at some point $x$.\n",
    "  \n",
    "- that assigns two vectors ```E_vals``` and ```R_vals``` that contain the data as given above.\n",
    "\n",
    "- initializes vectors and matrices to perform a curve fit using a general quadratic polynomial.\n",
    "\n",
    "- that uses Scipy's ```curve_fit``` function to determine the optimal values for the fitting coefficients ```c0```, ```c1```, and ```c2```.\n",
    "\n",
    "- that calculates and prints the value of\n",
    "  \n",
    "    - the equilibrium bond length (in units of ${\\mathring{\\rm{A}}}$), print using decimal notation with 3 decimal places)\n",
    "    - the force constant (in units of kg$\\cdot$s$^{-2}$, print using decimal notation with 1 decimal place)\n",
    "<br>\n",
    "\n",
    "- that plots the data given in the arrays above (use blue filled circles without a line) and the quadratic polynomial (use a red dashed line without tickmarks) in the sme figure. Use $N_{plot}=100$ points for the polynomial. Make sure to adjust axis limits to eliminate whitespace, and include axis labels (with units) and a legend.\n",
    "\n",
    "</span>"
   ]
  },
  {
   "cell_type": "code",
   "execution_count": null,
   "id": "672f9f99-1872-44b9-886d-942cd0fd0818",
   "metadata": {},
   "outputs": [],
   "source": [
    "import numpy as np\n",
    "R = np.array ( [1.2937132816 , 1.2947132816 , 1.2957132816 , 1.2967132816 , 1.2977132816 , 1.2987132816 , 1.2997132816] )\n",
    "E = np.array ( [4.6889104510 , 1.9791378918 , 0.4182655289 , 0.0000000000 , 0.7180499892 , 2.5660978054 , 5.5379319974] )"
   ]
  },
  {
   "cell_type": "markdown",
   "id": "45890a12-b28d-4a68-977a-e43782ccd39e",
   "metadata": {},
   "source": [
    "## **8**. Write your own function to evaluate the first and second derivative of a function"
   ]
  },
  {
   "cell_type": "markdown",
   "id": "181630f7-c271-4dff-8684-f042636550a2",
   "metadata": {},
   "source": [
    "<span style=\"color:blue\">\n",
    "\n",
    "The derivative of a function $f(x)$ at point $x_0$ may be approximated by the 5-point stencil\n",
    "\\begin{equation}\n",
    "\\left. \\frac{d f(x)}{dx}\\right\\vert_{x=x_0} \\approx \\frac{-f(x_0+2 h) + 8f(x_0+h) - 8f(x_0-h) + f(x_0-2h)}{12 h}\n",
    "\\end{equation}\n",
    "where $h$ is the width of the stencil. In this exercise, you will write code that evaluates the first and second derivatives of a function using a 5-point stencil. To do so, you will write code\n",
    "\n",
    "- for a function (name it ```function_value``` that takes as its only input the value of of ```x``` and returns the value of $x^3{\\rm sin}(x)$\n",
    "\n",
    "- for a function (name it ```derivative_1```) that takes as its input the function name ```fname```, ```x0```, and ```h```, and returns the 1$^{st}$ derivative (using the 5-point stencil expression above) of the function defined in ```fname``` at the value of $x_0$ using a stencil with width $h$.\n",
    "\n",
    "- for a function (name it ```derivative_2```) that takes as its input the function name ```fname```, ```x0```, and ```h```, and returns the 2$^{nd}$ derivative of the function defined in ```fname``` at the value of $x_0$ using a 5-point stencil with width $h$. Because the second derivative is just the derivative of the 1$^{\\rm st}$ derivative, the expression for the second derivative of $f(x)$ is similar to the one given above, but you have to replace the function $f(x)$ with its first derivative $f'(x)$ on the right hand side. Hence, you can simplify this function by recognizing that you can call ```derivative_1``` five times to evaluate the desired second derivative.\n",
    "  \n",
    "- that uses a ```for``` loop to evaluate and print the 1$^{\\rm st}$ and 2$^{\\rm nd}$ derivative of $f(x)=x^3\\cdot {\\rm sin}(x)$ at $x_0 = 1.5$ with $h=1,0.1,0.01,0.001$."
   ]
  },
  {
   "cell_type": "code",
   "execution_count": null,
   "id": "b7de35ee-0225-40aa-ac4c-5af17bf07d25",
   "metadata": {},
   "outputs": [],
   "source": []
  },
  {
   "cell_type": "markdown",
   "id": "157b501c-c1a1-4200-ad9c-f235ef1ecbf9",
   "metadata": {},
   "source": [
    "## **9**. Write your own function for numerical integration "
   ]
  },
  {
   "cell_type": "markdown",
   "id": "c131b10f-7a46-4c00-88ee-7cebc6af0edb",
   "metadata": {},
   "source": [
    "<span style=\"color:blue\">\n",
    "\n",
    "The integral $I = \\int_a^bf(x)dx$ may be approximated by dividing the interval $[a,b]$ into $N$ segements where the width of each segment is $\\Delta x = \\frac{b-a}{N}$ and approximating the area of each segment by the area of a rectangle\n",
    "\\begin{equation}\n",
    "I_N = \\int_a^b f(x) dx \\approx \\sum_{i=0}^{N-1} \\left( f(a+i\\cdot \\Delta x) \\cdot \\Delta x \\right) = \\left( \\sum_{i=0}^{N-1} f(a+i\\cdot \\Delta x) \\right) \\cdot \\Delta x\n",
    "\\end{equation}\n",
    "where in the last expression, we have highlighted the fact that the width of the segment is constant and hence can be factored out of the sum. \n",
    "\n",
    "In the cell below, you will write code\n",
    "\n",
    "- for a function (name it ```function_1```) that takes as its input the value of ```x``` and returns the value of $x^3$.\n",
    "\n",
    "- for a function (name it ```my_rect_integral```) that takes as its inputs ```fname```, ```a```, ```b```, and ```N``` and returns the integral of the function defined in ```fname``` using the rectangle approximation defined above.\n",
    "\n",
    "- that uses ```my_rect_integral``` to calculate the integral $I = \\int_a^b x^3 dx$ for $a=1.0$ and $b=4.0$ with $N=10,10^2,10^3,10^4,10^5,10^6$ segments. Save each integral value $I_N$ in an array. As well, calculate and save in another array the error in the integral value relative to the \"exact\" value (i.e. $I_N - I_{quad}$), where $I_{quad}$ denotes the value of the integral obtained from Scipy's ```quad``` functoin. These calculations are best done inside a ```for``` loop. \n",
    "\n",
    "- that plots the value of the integral as a function of log$_{10}(N)$.\n",
    "  \n",
    "- that plots log$_{10}(\\vert I_N - I_{exact}\\vert)$ as a function of log$_{10}(N)$.\n",
    "\n",
    "</span>"
   ]
  },
  {
   "cell_type": "code",
   "execution_count": null,
   "id": "af8fcac9-281b-481c-bf65-49d5ef594a15",
   "metadata": {},
   "outputs": [],
   "source": []
  }
 ],
 "metadata": {
  "kernelspec": {
   "display_name": "Python 3 (ipykernel)",
   "language": "python",
   "name": "python3"
  },
  "language_info": {
   "codemirror_mode": {
    "name": "ipython",
    "version": 3
   },
   "file_extension": ".py",
   "mimetype": "text/x-python",
   "name": "python",
   "nbconvert_exporter": "python",
   "pygments_lexer": "ipython3",
   "version": "3.10.14"
  }
 },
 "nbformat": 4,
 "nbformat_minor": 5
}
